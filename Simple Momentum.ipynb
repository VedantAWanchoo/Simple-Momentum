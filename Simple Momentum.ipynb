{
 "cells": [
  {
   "cell_type": "markdown",
   "metadata": {},
   "source": [
    "# Part 1 - Momentum"
   ]
  },
  {
   "cell_type": "code",
   "execution_count": 1,
   "metadata": {},
   "outputs": [],
   "source": [
    "import pandas as pd\n",
    "import numpy as np\n",
    "import matplotlib.pyplot as plt\n",
    "import datetime\n",
    "import statsmodels.api as sm\n",
    "from pandas.tseries.offsets import MonthEnd\n",
    "import seaborn as sns\n",
    "import statsmodels.formula.api as smf"
   ]
  },
  {
   "cell_type": "code",
   "execution_count": 2,
   "metadata": {
    "scrolled": true
   },
   "outputs": [
    {
     "data": {
      "text/html": [
       "<div>\n",
       "<style scoped>\n",
       "    .dataframe tbody tr th:only-of-type {\n",
       "        vertical-align: middle;\n",
       "    }\n",
       "\n",
       "    .dataframe tbody tr th {\n",
       "        vertical-align: top;\n",
       "    }\n",
       "\n",
       "    .dataframe thead th {\n",
       "        text-align: right;\n",
       "    }\n",
       "</style>\n",
       "<table border=\"1\" class=\"dataframe\">\n",
       "  <thead>\n",
       "    <tr style=\"text-align: right;\">\n",
       "      <th></th>\n",
       "      <th>LYB UN Equity</th>\n",
       "      <th>AXP UN Equity</th>\n",
       "      <th>VZ UN Equity</th>\n",
       "      <th>AVGO UW Equity</th>\n",
       "      <th>BA UN Equity</th>\n",
       "      <th>CAT UN Equity</th>\n",
       "      <th>JPM UN Equity</th>\n",
       "      <th>CVX UN Equity</th>\n",
       "      <th>KO UN Equity</th>\n",
       "      <th>ABBV UN Equity</th>\n",
       "      <th>...</th>\n",
       "      <th>ILMN UW Equity</th>\n",
       "      <th>ADS UN Equity</th>\n",
       "      <th>LKQ UW Equity</th>\n",
       "      <th>NLSN UN Equity</th>\n",
       "      <th>GRMN UW Equity</th>\n",
       "      <th>XEC UN Equity</th>\n",
       "      <th>ZTS UN Equity</th>\n",
       "      <th>DLR UN Equity</th>\n",
       "      <th>EQIX UW Equity</th>\n",
       "      <th>DISCK UW Equity</th>\n",
       "    </tr>\n",
       "    <tr>\n",
       "      <th>Date</th>\n",
       "      <th></th>\n",
       "      <th></th>\n",
       "      <th></th>\n",
       "      <th></th>\n",
       "      <th></th>\n",
       "      <th></th>\n",
       "      <th></th>\n",
       "      <th></th>\n",
       "      <th></th>\n",
       "      <th></th>\n",
       "      <th></th>\n",
       "      <th></th>\n",
       "      <th></th>\n",
       "      <th></th>\n",
       "      <th></th>\n",
       "      <th></th>\n",
       "      <th></th>\n",
       "      <th></th>\n",
       "      <th></th>\n",
       "      <th></th>\n",
       "      <th></th>\n",
       "    </tr>\n",
       "  </thead>\n",
       "  <tbody>\n",
       "    <tr>\n",
       "      <th>9/30/1998</th>\n",
       "      <td>NaN</td>\n",
       "      <td>-0.480769</td>\n",
       "      <td>9.773371</td>\n",
       "      <td>NaN</td>\n",
       "      <td>10.909090</td>\n",
       "      <td>5.629630</td>\n",
       "      <td>-18.39623</td>\n",
       "      <td>13.502110</td>\n",
       "      <td>-11.303950</td>\n",
       "      <td>NaN</td>\n",
       "      <td>...</td>\n",
       "      <td>NaN</td>\n",
       "      <td>NaN</td>\n",
       "      <td>NaN</td>\n",
       "      <td>NaN</td>\n",
       "      <td>NaN</td>\n",
       "      <td>NaN</td>\n",
       "      <td>NaN</td>\n",
       "      <td>NaN</td>\n",
       "      <td>NaN</td>\n",
       "      <td>NaN</td>\n",
       "    </tr>\n",
       "    <tr>\n",
       "      <th>10/31/1998</th>\n",
       "      <td>NaN</td>\n",
       "      <td>14.199530</td>\n",
       "      <td>10.505380</td>\n",
       "      <td>NaN</td>\n",
       "      <td>9.289618</td>\n",
       "      <td>1.622921</td>\n",
       "      <td>32.44237</td>\n",
       "      <td>-3.048327</td>\n",
       "      <td>17.353580</td>\n",
       "      <td>NaN</td>\n",
       "      <td>...</td>\n",
       "      <td>NaN</td>\n",
       "      <td>NaN</td>\n",
       "      <td>NaN</td>\n",
       "      <td>NaN</td>\n",
       "      <td>NaN</td>\n",
       "      <td>NaN</td>\n",
       "      <td>NaN</td>\n",
       "      <td>NaN</td>\n",
       "      <td>NaN</td>\n",
       "      <td>NaN</td>\n",
       "    </tr>\n",
       "    <tr>\n",
       "      <th>11/30/1998</th>\n",
       "      <td>NaN</td>\n",
       "      <td>13.224890</td>\n",
       "      <td>4.705883</td>\n",
       "      <td>NaN</td>\n",
       "      <td>8.701568</td>\n",
       "      <td>9.861111</td>\n",
       "      <td>11.66117</td>\n",
       "      <td>3.384280</td>\n",
       "      <td>3.821220</td>\n",
       "      <td>NaN</td>\n",
       "      <td>...</td>\n",
       "      <td>NaN</td>\n",
       "      <td>NaN</td>\n",
       "      <td>NaN</td>\n",
       "      <td>NaN</td>\n",
       "      <td>NaN</td>\n",
       "      <td>NaN</td>\n",
       "      <td>NaN</td>\n",
       "      <td>NaN</td>\n",
       "      <td>NaN</td>\n",
       "      <td>NaN</td>\n",
       "    </tr>\n",
       "    <tr>\n",
       "      <th>12/31/1998</th>\n",
       "      <td>NaN</td>\n",
       "      <td>2.186134</td>\n",
       "      <td>-4.719101</td>\n",
       "      <td>NaN</td>\n",
       "      <td>-19.692310</td>\n",
       "      <td>-6.953224</td>\n",
       "      <td>7.29064</td>\n",
       "      <td>-0.822123</td>\n",
       "      <td>-4.549510</td>\n",
       "      <td>NaN</td>\n",
       "      <td>...</td>\n",
       "      <td>NaN</td>\n",
       "      <td>NaN</td>\n",
       "      <td>NaN</td>\n",
       "      <td>NaN</td>\n",
       "      <td>NaN</td>\n",
       "      <td>NaN</td>\n",
       "      <td>NaN</td>\n",
       "      <td>NaN</td>\n",
       "      <td>NaN</td>\n",
       "      <td>NaN</td>\n",
       "    </tr>\n",
       "    <tr>\n",
       "      <th>1/31/1999</th>\n",
       "      <td>NaN</td>\n",
       "      <td>0.828916</td>\n",
       "      <td>13.982390</td>\n",
       "      <td>NaN</td>\n",
       "      <td>5.938697</td>\n",
       "      <td>-5.248493</td>\n",
       "      <td>13.60567</td>\n",
       "      <td>-9.871891</td>\n",
       "      <td>-2.149533</td>\n",
       "      <td>NaN</td>\n",
       "      <td>...</td>\n",
       "      <td>NaN</td>\n",
       "      <td>NaN</td>\n",
       "      <td>NaN</td>\n",
       "      <td>NaN</td>\n",
       "      <td>NaN</td>\n",
       "      <td>NaN</td>\n",
       "      <td>NaN</td>\n",
       "      <td>NaN</td>\n",
       "      <td>NaN</td>\n",
       "      <td>NaN</td>\n",
       "    </tr>\n",
       "  </tbody>\n",
       "</table>\n",
       "<p>5 rows × 505 columns</p>\n",
       "</div>"
      ],
      "text/plain": [
       "            LYB UN Equity  AXP UN Equity  VZ UN Equity  AVGO UW Equity  \\\n",
       "Date                                                                     \n",
       "9/30/1998             NaN      -0.480769      9.773371             NaN   \n",
       "10/31/1998            NaN      14.199530     10.505380             NaN   \n",
       "11/30/1998            NaN      13.224890      4.705883             NaN   \n",
       "12/31/1998            NaN       2.186134     -4.719101             NaN   \n",
       "1/31/1999             NaN       0.828916     13.982390             NaN   \n",
       "\n",
       "            BA UN Equity  CAT UN Equity  JPM UN Equity  CVX UN Equity  \\\n",
       "Date                                                                    \n",
       "9/30/1998      10.909090       5.629630      -18.39623      13.502110   \n",
       "10/31/1998      9.289618       1.622921       32.44237      -3.048327   \n",
       "11/30/1998      8.701568       9.861111       11.66117       3.384280   \n",
       "12/31/1998    -19.692310      -6.953224        7.29064      -0.822123   \n",
       "1/31/1999       5.938697      -5.248493       13.60567      -9.871891   \n",
       "\n",
       "            KO UN Equity  ABBV UN Equity  ...  ILMN UW Equity  ADS UN Equity  \\\n",
       "Date                                      ...                                  \n",
       "9/30/1998     -11.303950             NaN  ...             NaN            NaN   \n",
       "10/31/1998     17.353580             NaN  ...             NaN            NaN   \n",
       "11/30/1998      3.821220             NaN  ...             NaN            NaN   \n",
       "12/31/1998     -4.549510             NaN  ...             NaN            NaN   \n",
       "1/31/1999      -2.149533             NaN  ...             NaN            NaN   \n",
       "\n",
       "            LKQ UW Equity  NLSN UN Equity  GRMN UW Equity  XEC UN Equity  \\\n",
       "Date                                                                       \n",
       "9/30/1998             NaN             NaN             NaN            NaN   \n",
       "10/31/1998            NaN             NaN             NaN            NaN   \n",
       "11/30/1998            NaN             NaN             NaN            NaN   \n",
       "12/31/1998            NaN             NaN             NaN            NaN   \n",
       "1/31/1999             NaN             NaN             NaN            NaN   \n",
       "\n",
       "            ZTS UN Equity  DLR UN Equity  EQIX UW Equity  DISCK UW Equity  \n",
       "Date                                                                       \n",
       "9/30/1998             NaN            NaN             NaN              NaN  \n",
       "10/31/1998            NaN            NaN             NaN              NaN  \n",
       "11/30/1998            NaN            NaN             NaN              NaN  \n",
       "12/31/1998            NaN            NaN             NaN              NaN  \n",
       "1/31/1999             NaN            NaN             NaN              NaN  \n",
       "\n",
       "[5 rows x 505 columns]"
      ]
     },
     "execution_count": 2,
     "metadata": {},
     "output_type": "execute_result"
    }
   ],
   "source": [
    "data = pd.read_csv(r\"C:\\Users\\e0348704\\OneDrive - National University of Singapore\\Semester- 3\\Tech Disruptions\\Assignment 2\\SP500_total_return.csv\", index_col=0)\n",
    "data.head()"
   ]
  },
  {
   "cell_type": "code",
   "execution_count": 3,
   "metadata": {},
   "outputs": [],
   "source": [
    "data.index = pd.to_datetime(data.index)"
   ]
  },
  {
   "cell_type": "code",
   "execution_count": 4,
   "metadata": {},
   "outputs": [
    {
     "data": {
      "text/html": [
       "<div>\n",
       "<style scoped>\n",
       "    .dataframe tbody tr th:only-of-type {\n",
       "        vertical-align: middle;\n",
       "    }\n",
       "\n",
       "    .dataframe tbody tr th {\n",
       "        vertical-align: top;\n",
       "    }\n",
       "\n",
       "    .dataframe thead th {\n",
       "        text-align: right;\n",
       "    }\n",
       "</style>\n",
       "<table border=\"1\" class=\"dataframe\">\n",
       "  <thead>\n",
       "    <tr style=\"text-align: right;\">\n",
       "      <th></th>\n",
       "      <th>LYB UN Equity</th>\n",
       "      <th>AXP UN Equity</th>\n",
       "      <th>VZ UN Equity</th>\n",
       "      <th>AVGO UW Equity</th>\n",
       "      <th>BA UN Equity</th>\n",
       "      <th>CAT UN Equity</th>\n",
       "      <th>JPM UN Equity</th>\n",
       "      <th>CVX UN Equity</th>\n",
       "      <th>KO UN Equity</th>\n",
       "      <th>ABBV UN Equity</th>\n",
       "      <th>...</th>\n",
       "      <th>ILMN UW Equity</th>\n",
       "      <th>ADS UN Equity</th>\n",
       "      <th>LKQ UW Equity</th>\n",
       "      <th>NLSN UN Equity</th>\n",
       "      <th>GRMN UW Equity</th>\n",
       "      <th>XEC UN Equity</th>\n",
       "      <th>ZTS UN Equity</th>\n",
       "      <th>DLR UN Equity</th>\n",
       "      <th>EQIX UW Equity</th>\n",
       "      <th>DISCK UW Equity</th>\n",
       "    </tr>\n",
       "    <tr>\n",
       "      <th>Date</th>\n",
       "      <th></th>\n",
       "      <th></th>\n",
       "      <th></th>\n",
       "      <th></th>\n",
       "      <th></th>\n",
       "      <th></th>\n",
       "      <th></th>\n",
       "      <th></th>\n",
       "      <th></th>\n",
       "      <th></th>\n",
       "      <th></th>\n",
       "      <th></th>\n",
       "      <th></th>\n",
       "      <th></th>\n",
       "      <th></th>\n",
       "      <th></th>\n",
       "      <th></th>\n",
       "      <th></th>\n",
       "      <th></th>\n",
       "      <th></th>\n",
       "      <th></th>\n",
       "    </tr>\n",
       "  </thead>\n",
       "  <tbody>\n",
       "    <tr>\n",
       "      <th>1998-09-30</th>\n",
       "      <td>NaN</td>\n",
       "      <td>-0.004808</td>\n",
       "      <td>0.097734</td>\n",
       "      <td>NaN</td>\n",
       "      <td>0.109091</td>\n",
       "      <td>0.056296</td>\n",
       "      <td>-0.183962</td>\n",
       "      <td>0.135021</td>\n",
       "      <td>-0.113040</td>\n",
       "      <td>NaN</td>\n",
       "      <td>...</td>\n",
       "      <td>NaN</td>\n",
       "      <td>NaN</td>\n",
       "      <td>NaN</td>\n",
       "      <td>NaN</td>\n",
       "      <td>NaN</td>\n",
       "      <td>NaN</td>\n",
       "      <td>NaN</td>\n",
       "      <td>NaN</td>\n",
       "      <td>NaN</td>\n",
       "      <td>NaN</td>\n",
       "    </tr>\n",
       "    <tr>\n",
       "      <th>1998-10-31</th>\n",
       "      <td>NaN</td>\n",
       "      <td>0.141995</td>\n",
       "      <td>0.105054</td>\n",
       "      <td>NaN</td>\n",
       "      <td>0.092896</td>\n",
       "      <td>0.016229</td>\n",
       "      <td>0.324424</td>\n",
       "      <td>-0.030483</td>\n",
       "      <td>0.173536</td>\n",
       "      <td>NaN</td>\n",
       "      <td>...</td>\n",
       "      <td>NaN</td>\n",
       "      <td>NaN</td>\n",
       "      <td>NaN</td>\n",
       "      <td>NaN</td>\n",
       "      <td>NaN</td>\n",
       "      <td>NaN</td>\n",
       "      <td>NaN</td>\n",
       "      <td>NaN</td>\n",
       "      <td>NaN</td>\n",
       "      <td>NaN</td>\n",
       "    </tr>\n",
       "    <tr>\n",
       "      <th>1998-11-30</th>\n",
       "      <td>NaN</td>\n",
       "      <td>0.132249</td>\n",
       "      <td>0.047059</td>\n",
       "      <td>NaN</td>\n",
       "      <td>0.087016</td>\n",
       "      <td>0.098611</td>\n",
       "      <td>0.116612</td>\n",
       "      <td>0.033843</td>\n",
       "      <td>0.038212</td>\n",
       "      <td>NaN</td>\n",
       "      <td>...</td>\n",
       "      <td>NaN</td>\n",
       "      <td>NaN</td>\n",
       "      <td>NaN</td>\n",
       "      <td>NaN</td>\n",
       "      <td>NaN</td>\n",
       "      <td>NaN</td>\n",
       "      <td>NaN</td>\n",
       "      <td>NaN</td>\n",
       "      <td>NaN</td>\n",
       "      <td>NaN</td>\n",
       "    </tr>\n",
       "    <tr>\n",
       "      <th>1998-12-31</th>\n",
       "      <td>NaN</td>\n",
       "      <td>0.021861</td>\n",
       "      <td>-0.047191</td>\n",
       "      <td>NaN</td>\n",
       "      <td>-0.196923</td>\n",
       "      <td>-0.069532</td>\n",
       "      <td>0.072906</td>\n",
       "      <td>-0.008221</td>\n",
       "      <td>-0.045495</td>\n",
       "      <td>NaN</td>\n",
       "      <td>...</td>\n",
       "      <td>NaN</td>\n",
       "      <td>NaN</td>\n",
       "      <td>NaN</td>\n",
       "      <td>NaN</td>\n",
       "      <td>NaN</td>\n",
       "      <td>NaN</td>\n",
       "      <td>NaN</td>\n",
       "      <td>NaN</td>\n",
       "      <td>NaN</td>\n",
       "      <td>NaN</td>\n",
       "    </tr>\n",
       "    <tr>\n",
       "      <th>1999-01-31</th>\n",
       "      <td>NaN</td>\n",
       "      <td>0.008289</td>\n",
       "      <td>0.139824</td>\n",
       "      <td>NaN</td>\n",
       "      <td>0.059387</td>\n",
       "      <td>-0.052485</td>\n",
       "      <td>0.136057</td>\n",
       "      <td>-0.098719</td>\n",
       "      <td>-0.021495</td>\n",
       "      <td>NaN</td>\n",
       "      <td>...</td>\n",
       "      <td>NaN</td>\n",
       "      <td>NaN</td>\n",
       "      <td>NaN</td>\n",
       "      <td>NaN</td>\n",
       "      <td>NaN</td>\n",
       "      <td>NaN</td>\n",
       "      <td>NaN</td>\n",
       "      <td>NaN</td>\n",
       "      <td>NaN</td>\n",
       "      <td>NaN</td>\n",
       "    </tr>\n",
       "  </tbody>\n",
       "</table>\n",
       "<p>5 rows × 505 columns</p>\n",
       "</div>"
      ],
      "text/plain": [
       "            LYB UN Equity  AXP UN Equity  VZ UN Equity  AVGO UW Equity  \\\n",
       "Date                                                                     \n",
       "1998-09-30            NaN      -0.004808      0.097734             NaN   \n",
       "1998-10-31            NaN       0.141995      0.105054             NaN   \n",
       "1998-11-30            NaN       0.132249      0.047059             NaN   \n",
       "1998-12-31            NaN       0.021861     -0.047191             NaN   \n",
       "1999-01-31            NaN       0.008289      0.139824             NaN   \n",
       "\n",
       "            BA UN Equity  CAT UN Equity  JPM UN Equity  CVX UN Equity  \\\n",
       "Date                                                                    \n",
       "1998-09-30      0.109091       0.056296      -0.183962       0.135021   \n",
       "1998-10-31      0.092896       0.016229       0.324424      -0.030483   \n",
       "1998-11-30      0.087016       0.098611       0.116612       0.033843   \n",
       "1998-12-31     -0.196923      -0.069532       0.072906      -0.008221   \n",
       "1999-01-31      0.059387      -0.052485       0.136057      -0.098719   \n",
       "\n",
       "            KO UN Equity  ABBV UN Equity  ...  ILMN UW Equity  ADS UN Equity  \\\n",
       "Date                                      ...                                  \n",
       "1998-09-30     -0.113040             NaN  ...             NaN            NaN   \n",
       "1998-10-31      0.173536             NaN  ...             NaN            NaN   \n",
       "1998-11-30      0.038212             NaN  ...             NaN            NaN   \n",
       "1998-12-31     -0.045495             NaN  ...             NaN            NaN   \n",
       "1999-01-31     -0.021495             NaN  ...             NaN            NaN   \n",
       "\n",
       "            LKQ UW Equity  NLSN UN Equity  GRMN UW Equity  XEC UN Equity  \\\n",
       "Date                                                                       \n",
       "1998-09-30            NaN             NaN             NaN            NaN   \n",
       "1998-10-31            NaN             NaN             NaN            NaN   \n",
       "1998-11-30            NaN             NaN             NaN            NaN   \n",
       "1998-12-31            NaN             NaN             NaN            NaN   \n",
       "1999-01-31            NaN             NaN             NaN            NaN   \n",
       "\n",
       "            ZTS UN Equity  DLR UN Equity  EQIX UW Equity  DISCK UW Equity  \n",
       "Date                                                                       \n",
       "1998-09-30            NaN            NaN             NaN              NaN  \n",
       "1998-10-31            NaN            NaN             NaN              NaN  \n",
       "1998-11-30            NaN            NaN             NaN              NaN  \n",
       "1998-12-31            NaN            NaN             NaN              NaN  \n",
       "1999-01-31            NaN            NaN             NaN              NaN  \n",
       "\n",
       "[5 rows x 505 columns]"
      ]
     },
     "execution_count": 4,
     "metadata": {},
     "output_type": "execute_result"
    }
   ],
   "source": [
    "data = data/100\n",
    "data.head()"
   ]
  },
  {
   "cell_type": "code",
   "execution_count": 5,
   "metadata": {},
   "outputs": [],
   "source": [
    "port_ret=pd.DataFrame()\n",
    "for j in range(9,240,3):\n",
    "    ret_ji= data.iloc[j-9:j]\n",
    "    ret_jy= (1+ret_ji).prod()-1\n",
    "    quantile=pd.qcut(ret_jy.rank(method='first'),3,labels=False)\n",
    "    ret_jy_df= pd.DataFrame([ret_jy,quantile], index =['Return','Quantile'])\n",
    "    ret_jy_df=ret_jy_df.T\n",
    "    #short_port=ret_jy_df.index[ret_jy_df.Quantile==0]\n",
    "    long_port=ret_jy_df.index[ret_jy_df.Quantile==2]\n",
    "    k=3\n",
    "    for l in range(k):\n",
    "            long_ret=data[long_port].iloc[j+l].mean()\n",
    "            #short_ret=data[short_port].iloc[j+l].mean()\n",
    "            #long_short_ret=long_ret-short_ret\n",
    "            currentdate = data.iloc[[j+l]].index.astype(str)\n",
    "            port_ret=port_ret.append(pd.DataFrame({'date': currentdate, 'long_ret': long_ret}), ignore_index=True)"
   ]
  },
  {
   "cell_type": "code",
   "execution_count": 6,
   "metadata": {},
   "outputs": [
    {
     "data": {
      "text/html": [
       "<div>\n",
       "<style scoped>\n",
       "    .dataframe tbody tr th:only-of-type {\n",
       "        vertical-align: middle;\n",
       "    }\n",
       "\n",
       "    .dataframe tbody tr th {\n",
       "        vertical-align: top;\n",
       "    }\n",
       "\n",
       "    .dataframe thead th {\n",
       "        text-align: right;\n",
       "    }\n",
       "</style>\n",
       "<table border=\"1\" class=\"dataframe\">\n",
       "  <thead>\n",
       "    <tr style=\"text-align: right;\">\n",
       "      <th></th>\n",
       "      <th>long_ret</th>\n",
       "    </tr>\n",
       "    <tr>\n",
       "      <th>date</th>\n",
       "      <th></th>\n",
       "    </tr>\n",
       "  </thead>\n",
       "  <tbody>\n",
       "    <tr>\n",
       "      <th>1999-06-30</th>\n",
       "      <td>0.072356</td>\n",
       "    </tr>\n",
       "    <tr>\n",
       "      <th>1999-07-31</th>\n",
       "      <td>-0.024957</td>\n",
       "    </tr>\n",
       "    <tr>\n",
       "      <th>1999-08-31</th>\n",
       "      <td>-0.015925</td>\n",
       "    </tr>\n",
       "    <tr>\n",
       "      <th>1999-09-30</th>\n",
       "      <td>-0.014978</td>\n",
       "    </tr>\n",
       "    <tr>\n",
       "      <th>1999-10-31</th>\n",
       "      <td>0.048022</td>\n",
       "    </tr>\n",
       "  </tbody>\n",
       "</table>\n",
       "</div>"
      ],
      "text/plain": [
       "            long_ret\n",
       "date                \n",
       "1999-06-30  0.072356\n",
       "1999-07-31 -0.024957\n",
       "1999-08-31 -0.015925\n",
       "1999-09-30 -0.014978\n",
       "1999-10-31  0.048022"
      ]
     },
     "execution_count": 6,
     "metadata": {},
     "output_type": "execute_result"
    }
   ],
   "source": [
    "port_ret=port_ret.set_index('date')\n",
    "port_ret.head()"
   ]
  },
  {
   "cell_type": "code",
   "execution_count": 7,
   "metadata": {},
   "outputs": [],
   "source": [
    "port_ret_ls=pd.DataFrame()\n",
    "for j in range(9,240,3):\n",
    "    ret_ji_ls= data.iloc[j-9:j]\n",
    "    ret_jy_ls= (1+ret_ji_ls).prod()-1\n",
    "    quantile=pd.qcut(ret_jy_ls.rank(method='first'),3,labels=False)\n",
    "    ret_jy_ls_df= pd.DataFrame([ret_jy_ls,quantile], index =['Return','Quantile'])\n",
    "    ret_jy_ls_df=ret_jy_ls_df.T\n",
    "    short_port_ls=ret_jy_ls_df.index[ret_jy_ls_df.Quantile==0]\n",
    "    long_port_ls=ret_jy_ls_df.index[ret_jy_ls_df.Quantile==2]\n",
    "    k=3\n",
    "    for l in range(k):\n",
    "            long_ret_ls=data[long_port_ls].iloc[j+l].mean()\n",
    "            short_ret_ls=data[short_port_ls].iloc[j+l].mean()\n",
    "            ls_ret=long_ret_ls-short_ret_ls\n",
    "            currentdate_ls = data.iloc[[j+l]].index.astype(str)\n",
    "            port_ret_ls=port_ret_ls.append(pd.DataFrame({'date': currentdate_ls, 'ls_ret': ls_ret}), ignore_index=True)    "
   ]
  },
  {
   "cell_type": "code",
   "execution_count": 8,
   "metadata": {},
   "outputs": [
    {
     "data": {
      "text/html": [
       "<div>\n",
       "<style scoped>\n",
       "    .dataframe tbody tr th:only-of-type {\n",
       "        vertical-align: middle;\n",
       "    }\n",
       "\n",
       "    .dataframe tbody tr th {\n",
       "        vertical-align: top;\n",
       "    }\n",
       "\n",
       "    .dataframe thead th {\n",
       "        text-align: right;\n",
       "    }\n",
       "</style>\n",
       "<table border=\"1\" class=\"dataframe\">\n",
       "  <thead>\n",
       "    <tr style=\"text-align: right;\">\n",
       "      <th></th>\n",
       "      <th>ls_ret</th>\n",
       "    </tr>\n",
       "    <tr>\n",
       "      <th>date</th>\n",
       "      <th></th>\n",
       "    </tr>\n",
       "  </thead>\n",
       "  <tbody>\n",
       "    <tr>\n",
       "      <th>1999-06-30</th>\n",
       "      <td>-0.005423</td>\n",
       "    </tr>\n",
       "    <tr>\n",
       "      <th>1999-07-31</th>\n",
       "      <td>0.005176</td>\n",
       "    </tr>\n",
       "    <tr>\n",
       "      <th>1999-08-31</th>\n",
       "      <td>-0.014354</td>\n",
       "    </tr>\n",
       "    <tr>\n",
       "      <th>1999-09-30</th>\n",
       "      <td>0.036080</td>\n",
       "    </tr>\n",
       "    <tr>\n",
       "      <th>1999-10-31</th>\n",
       "      <td>0.033694</td>\n",
       "    </tr>\n",
       "  </tbody>\n",
       "</table>\n",
       "</div>"
      ],
      "text/plain": [
       "              ls_ret\n",
       "date                \n",
       "1999-06-30 -0.005423\n",
       "1999-07-31  0.005176\n",
       "1999-08-31 -0.014354\n",
       "1999-09-30  0.036080\n",
       "1999-10-31  0.033694"
      ]
     },
     "execution_count": 8,
     "metadata": {},
     "output_type": "execute_result"
    }
   ],
   "source": [
    "port_ret_ls=port_ret_ls.set_index('date')\n",
    "port_ret_ls.head()"
   ]
  },
  {
   "cell_type": "code",
   "execution_count": 9,
   "metadata": {},
   "outputs": [
    {
     "data": {
      "text/html": [
       "<div>\n",
       "<style scoped>\n",
       "    .dataframe tbody tr th:only-of-type {\n",
       "        vertical-align: middle;\n",
       "    }\n",
       "\n",
       "    .dataframe tbody tr th {\n",
       "        vertical-align: top;\n",
       "    }\n",
       "\n",
       "    .dataframe thead th {\n",
       "        text-align: right;\n",
       "    }\n",
       "</style>\n",
       "<table border=\"1\" class=\"dataframe\">\n",
       "  <thead>\n",
       "    <tr style=\"text-align: right;\">\n",
       "      <th></th>\n",
       "      <th>long_ret</th>\n",
       "      <th>ls_ret</th>\n",
       "    </tr>\n",
       "    <tr>\n",
       "      <th>date</th>\n",
       "      <th></th>\n",
       "      <th></th>\n",
       "    </tr>\n",
       "  </thead>\n",
       "  <tbody>\n",
       "    <tr>\n",
       "      <th>1999-06-30</th>\n",
       "      <td>0.072356</td>\n",
       "      <td>-0.005423</td>\n",
       "    </tr>\n",
       "    <tr>\n",
       "      <th>1999-07-31</th>\n",
       "      <td>-0.024957</td>\n",
       "      <td>0.005176</td>\n",
       "    </tr>\n",
       "    <tr>\n",
       "      <th>1999-08-31</th>\n",
       "      <td>-0.015925</td>\n",
       "      <td>-0.014354</td>\n",
       "    </tr>\n",
       "    <tr>\n",
       "      <th>1999-09-30</th>\n",
       "      <td>-0.014978</td>\n",
       "      <td>0.036080</td>\n",
       "    </tr>\n",
       "    <tr>\n",
       "      <th>1999-10-31</th>\n",
       "      <td>0.048022</td>\n",
       "      <td>0.033694</td>\n",
       "    </tr>\n",
       "  </tbody>\n",
       "</table>\n",
       "</div>"
      ],
      "text/plain": [
       "            long_ret    ls_ret\n",
       "date                          \n",
       "1999-06-30  0.072356 -0.005423\n",
       "1999-07-31 -0.024957  0.005176\n",
       "1999-08-31 -0.015925 -0.014354\n",
       "1999-09-30 -0.014978  0.036080\n",
       "1999-10-31  0.048022  0.033694"
      ]
     },
     "execution_count": 9,
     "metadata": {},
     "output_type": "execute_result"
    }
   ],
   "source": [
    "MRet = pd.concat([port_ret,port_ret_ls['ls_ret']],axis = 1)\n",
    "MRet.head()"
   ]
  },
  {
   "cell_type": "code",
   "execution_count": 10,
   "metadata": {},
   "outputs": [],
   "source": [
    "FF5= pd.read_csv('https://mba.tuck.dartmouth.edu/pages/faculty/ken.french/ftp/F-F_Research_Data_5_Factors_2x3_CSV.zip',skiprows = range(3), index_col = 0)\n",
    "#FF5.head()"
   ]
  },
  {
   "cell_type": "code",
   "execution_count": 11,
   "metadata": {},
   "outputs": [],
   "source": [
    "FF5= FF5.loc['199906':'201808']"
   ]
  },
  {
   "cell_type": "code",
   "execution_count": 12,
   "metadata": {},
   "outputs": [],
   "source": [
    "FF5.index=pd.to_datetime(FF5.index.astype(str), format='%Y%m') + MonthEnd (1)"
   ]
  },
  {
   "cell_type": "code",
   "execution_count": 13,
   "metadata": {},
   "outputs": [],
   "source": [
    "FF5['Mkt-RF'] = FF5['Mkt-RF'].astype(float)\n",
    "FF5['SMB'] = FF5['SMB'].astype(float)\n",
    "FF5['HML'] = FF5['HML'].astype(float)\n",
    "FF5['RMW'] = FF5['RMW'].astype(float)\n",
    "FF5['CMA'] = FF5['CMA'].astype(float)\n",
    "FF5['RF'] = FF5['RF'].astype(float)"
   ]
  },
  {
   "cell_type": "code",
   "execution_count": 14,
   "metadata": {},
   "outputs": [],
   "source": [
    "FF5=FF5/100"
   ]
  },
  {
   "cell_type": "code",
   "execution_count": 15,
   "metadata": {},
   "outputs": [
    {
     "data": {
      "text/html": [
       "<div>\n",
       "<style scoped>\n",
       "    .dataframe tbody tr th:only-of-type {\n",
       "        vertical-align: middle;\n",
       "    }\n",
       "\n",
       "    .dataframe tbody tr th {\n",
       "        vertical-align: top;\n",
       "    }\n",
       "\n",
       "    .dataframe thead th {\n",
       "        text-align: right;\n",
       "    }\n",
       "</style>\n",
       "<table border=\"1\" class=\"dataframe\">\n",
       "  <thead>\n",
       "    <tr style=\"text-align: right;\">\n",
       "      <th></th>\n",
       "      <th>Mkt-RF</th>\n",
       "      <th>SMB</th>\n",
       "      <th>HML</th>\n",
       "      <th>RMW</th>\n",
       "      <th>CMA</th>\n",
       "      <th>RF</th>\n",
       "    </tr>\n",
       "  </thead>\n",
       "  <tbody>\n",
       "    <tr>\n",
       "      <th>1999-06-30</th>\n",
       "      <td>0.0477</td>\n",
       "      <td>0.0225</td>\n",
       "      <td>-0.0360</td>\n",
       "      <td>0.0132</td>\n",
       "      <td>-0.0337</td>\n",
       "      <td>0.0040</td>\n",
       "    </tr>\n",
       "    <tr>\n",
       "      <th>1999-07-31</th>\n",
       "      <td>-0.0349</td>\n",
       "      <td>0.0253</td>\n",
       "      <td>-0.0076</td>\n",
       "      <td>0.0048</td>\n",
       "      <td>0.0311</td>\n",
       "      <td>0.0038</td>\n",
       "    </tr>\n",
       "    <tr>\n",
       "      <th>1999-08-31</th>\n",
       "      <td>-0.0138</td>\n",
       "      <td>-0.0193</td>\n",
       "      <td>-0.0131</td>\n",
       "      <td>-0.0029</td>\n",
       "      <td>0.0031</td>\n",
       "      <td>0.0039</td>\n",
       "    </tr>\n",
       "    <tr>\n",
       "      <th>1999-09-30</th>\n",
       "      <td>-0.0279</td>\n",
       "      <td>0.0256</td>\n",
       "      <td>-0.0340</td>\n",
       "      <td>-0.0074</td>\n",
       "      <td>-0.0106</td>\n",
       "      <td>0.0039</td>\n",
       "    </tr>\n",
       "    <tr>\n",
       "      <th>1999-10-31</th>\n",
       "      <td>0.0612</td>\n",
       "      <td>-0.0709</td>\n",
       "      <td>-0.0288</td>\n",
       "      <td>-0.0171</td>\n",
       "      <td>-0.0125</td>\n",
       "      <td>0.0039</td>\n",
       "    </tr>\n",
       "  </tbody>\n",
       "</table>\n",
       "</div>"
      ],
      "text/plain": [
       "            Mkt-RF     SMB     HML     RMW     CMA      RF\n",
       "1999-06-30  0.0477  0.0225 -0.0360  0.0132 -0.0337  0.0040\n",
       "1999-07-31 -0.0349  0.0253 -0.0076  0.0048  0.0311  0.0038\n",
       "1999-08-31 -0.0138 -0.0193 -0.0131 -0.0029  0.0031  0.0039\n",
       "1999-09-30 -0.0279  0.0256 -0.0340 -0.0074 -0.0106  0.0039\n",
       "1999-10-31  0.0612 -0.0709 -0.0288 -0.0171 -0.0125  0.0039"
      ]
     },
     "execution_count": 15,
     "metadata": {},
     "output_type": "execute_result"
    }
   ],
   "source": [
    "FF5.head()"
   ]
  },
  {
   "cell_type": "code",
   "execution_count": 16,
   "metadata": {},
   "outputs": [
    {
     "data": {
      "text/html": [
       "<div>\n",
       "<style scoped>\n",
       "    .dataframe tbody tr th:only-of-type {\n",
       "        vertical-align: middle;\n",
       "    }\n",
       "\n",
       "    .dataframe tbody tr th {\n",
       "        vertical-align: top;\n",
       "    }\n",
       "\n",
       "    .dataframe thead th {\n",
       "        text-align: right;\n",
       "    }\n",
       "</style>\n",
       "<table border=\"1\" class=\"dataframe\">\n",
       "  <thead>\n",
       "    <tr style=\"text-align: right;\">\n",
       "      <th></th>\n",
       "      <th>Mkt-RF</th>\n",
       "      <th>SMB</th>\n",
       "      <th>HML</th>\n",
       "      <th>RMW</th>\n",
       "      <th>CMA</th>\n",
       "      <th>RF</th>\n",
       "    </tr>\n",
       "  </thead>\n",
       "  <tbody>\n",
       "    <tr>\n",
       "      <th>count</th>\n",
       "      <td>231.000000</td>\n",
       "      <td>231.000000</td>\n",
       "      <td>231.000000</td>\n",
       "      <td>231.000000</td>\n",
       "      <td>231.000000</td>\n",
       "      <td>231.000000</td>\n",
       "    </tr>\n",
       "    <tr>\n",
       "      <th>mean</th>\n",
       "      <td>0.005086</td>\n",
       "      <td>0.004048</td>\n",
       "      <td>0.001414</td>\n",
       "      <td>0.003651</td>\n",
       "      <td>0.002514</td>\n",
       "      <td>0.001396</td>\n",
       "    </tr>\n",
       "    <tr>\n",
       "      <th>std</th>\n",
       "      <td>0.043100</td>\n",
       "      <td>0.031502</td>\n",
       "      <td>0.032233</td>\n",
       "      <td>0.030205</td>\n",
       "      <td>0.021101</td>\n",
       "      <td>0.001607</td>\n",
       "    </tr>\n",
       "    <tr>\n",
       "      <th>min</th>\n",
       "      <td>-0.172300</td>\n",
       "      <td>-0.149100</td>\n",
       "      <td>-0.111800</td>\n",
       "      <td>-0.183300</td>\n",
       "      <td>-0.065500</td>\n",
       "      <td>0.000000</td>\n",
       "    </tr>\n",
       "    <tr>\n",
       "      <th>25%</th>\n",
       "      <td>-0.019650</td>\n",
       "      <td>-0.013700</td>\n",
       "      <td>-0.013800</td>\n",
       "      <td>-0.009800</td>\n",
       "      <td>-0.010600</td>\n",
       "      <td>0.000100</td>\n",
       "    </tr>\n",
       "    <tr>\n",
       "      <th>50%</th>\n",
       "      <td>0.010600</td>\n",
       "      <td>0.002900</td>\n",
       "      <td>-0.001200</td>\n",
       "      <td>0.002800</td>\n",
       "      <td>-0.000100</td>\n",
       "      <td>0.000800</td>\n",
       "    </tr>\n",
       "    <tr>\n",
       "      <th>75%</th>\n",
       "      <td>0.032250</td>\n",
       "      <td>0.024600</td>\n",
       "      <td>0.017250</td>\n",
       "      <td>0.013750</td>\n",
       "      <td>0.012150</td>\n",
       "      <td>0.002400</td>\n",
       "    </tr>\n",
       "    <tr>\n",
       "      <th>max</th>\n",
       "      <td>0.113500</td>\n",
       "      <td>0.183200</td>\n",
       "      <td>0.128700</td>\n",
       "      <td>0.133300</td>\n",
       "      <td>0.095600</td>\n",
       "      <td>0.005600</td>\n",
       "    </tr>\n",
       "  </tbody>\n",
       "</table>\n",
       "</div>"
      ],
      "text/plain": [
       "           Mkt-RF         SMB         HML         RMW         CMA          RF\n",
       "count  231.000000  231.000000  231.000000  231.000000  231.000000  231.000000\n",
       "mean     0.005086    0.004048    0.001414    0.003651    0.002514    0.001396\n",
       "std      0.043100    0.031502    0.032233    0.030205    0.021101    0.001607\n",
       "min     -0.172300   -0.149100   -0.111800   -0.183300   -0.065500    0.000000\n",
       "25%     -0.019650   -0.013700   -0.013800   -0.009800   -0.010600    0.000100\n",
       "50%      0.010600    0.002900   -0.001200    0.002800   -0.000100    0.000800\n",
       "75%      0.032250    0.024600    0.017250    0.013750    0.012150    0.002400\n",
       "max      0.113500    0.183200    0.128700    0.133300    0.095600    0.005600"
      ]
     },
     "execution_count": 16,
     "metadata": {},
     "output_type": "execute_result"
    }
   ],
   "source": [
    "FF5.describe()"
   ]
  },
  {
   "cell_type": "code",
   "execution_count": 17,
   "metadata": {},
   "outputs": [
    {
     "data": {
      "text/html": [
       "<div>\n",
       "<style scoped>\n",
       "    .dataframe tbody tr th:only-of-type {\n",
       "        vertical-align: middle;\n",
       "    }\n",
       "\n",
       "    .dataframe tbody tr th {\n",
       "        vertical-align: top;\n",
       "    }\n",
       "\n",
       "    .dataframe thead th {\n",
       "        text-align: right;\n",
       "    }\n",
       "</style>\n",
       "<table border=\"1\" class=\"dataframe\">\n",
       "  <thead>\n",
       "    <tr style=\"text-align: right;\">\n",
       "      <th></th>\n",
       "      <th>long_ret</th>\n",
       "      <th>ls_ret</th>\n",
       "      <th>Mkt-RF</th>\n",
       "      <th>SMB</th>\n",
       "      <th>HML</th>\n",
       "      <th>RMW</th>\n",
       "      <th>CMA</th>\n",
       "      <th>RF</th>\n",
       "    </tr>\n",
       "  </thead>\n",
       "  <tbody>\n",
       "    <tr>\n",
       "      <th>1999-06-30</th>\n",
       "      <td>0.072356</td>\n",
       "      <td>-0.005423</td>\n",
       "      <td>0.0477</td>\n",
       "      <td>0.0225</td>\n",
       "      <td>-0.0360</td>\n",
       "      <td>0.0132</td>\n",
       "      <td>-0.0337</td>\n",
       "      <td>0.0040</td>\n",
       "    </tr>\n",
       "    <tr>\n",
       "      <th>1999-07-31</th>\n",
       "      <td>-0.024957</td>\n",
       "      <td>0.005176</td>\n",
       "      <td>-0.0349</td>\n",
       "      <td>0.0253</td>\n",
       "      <td>-0.0076</td>\n",
       "      <td>0.0048</td>\n",
       "      <td>0.0311</td>\n",
       "      <td>0.0038</td>\n",
       "    </tr>\n",
       "    <tr>\n",
       "      <th>1999-08-31</th>\n",
       "      <td>-0.015925</td>\n",
       "      <td>-0.014354</td>\n",
       "      <td>-0.0138</td>\n",
       "      <td>-0.0193</td>\n",
       "      <td>-0.0131</td>\n",
       "      <td>-0.0029</td>\n",
       "      <td>0.0031</td>\n",
       "      <td>0.0039</td>\n",
       "    </tr>\n",
       "    <tr>\n",
       "      <th>1999-09-30</th>\n",
       "      <td>-0.014978</td>\n",
       "      <td>0.036080</td>\n",
       "      <td>-0.0279</td>\n",
       "      <td>0.0256</td>\n",
       "      <td>-0.0340</td>\n",
       "      <td>-0.0074</td>\n",
       "      <td>-0.0106</td>\n",
       "      <td>0.0039</td>\n",
       "    </tr>\n",
       "    <tr>\n",
       "      <th>1999-10-31</th>\n",
       "      <td>0.048022</td>\n",
       "      <td>0.033694</td>\n",
       "      <td>0.0612</td>\n",
       "      <td>-0.0709</td>\n",
       "      <td>-0.0288</td>\n",
       "      <td>-0.0171</td>\n",
       "      <td>-0.0125</td>\n",
       "      <td>0.0039</td>\n",
       "    </tr>\n",
       "  </tbody>\n",
       "</table>\n",
       "</div>"
      ],
      "text/plain": [
       "            long_ret    ls_ret  Mkt-RF     SMB     HML     RMW     CMA      RF\n",
       "1999-06-30  0.072356 -0.005423  0.0477  0.0225 -0.0360  0.0132 -0.0337  0.0040\n",
       "1999-07-31 -0.024957  0.005176 -0.0349  0.0253 -0.0076  0.0048  0.0311  0.0038\n",
       "1999-08-31 -0.015925 -0.014354 -0.0138 -0.0193 -0.0131 -0.0029  0.0031  0.0039\n",
       "1999-09-30 -0.014978  0.036080 -0.0279  0.0256 -0.0340 -0.0074 -0.0106  0.0039\n",
       "1999-10-31  0.048022  0.033694  0.0612 -0.0709 -0.0288 -0.0171 -0.0125  0.0039"
      ]
     },
     "execution_count": 17,
     "metadata": {},
     "output_type": "execute_result"
    }
   ],
   "source": [
    "AllData = pd.concat([MRet['long_ret'],MRet['ls_ret'],FF5], axis =1)\n",
    "AllData.head()"
   ]
  },
  {
   "cell_type": "code",
   "execution_count": 18,
   "metadata": {},
   "outputs": [],
   "source": [
    "AllData['excess_long']= AllData['long_ret'] - AllData['RF']\n",
    "AllData['excess_ls']= AllData['ls_ret'] - AllData['RF']"
   ]
  },
  {
   "cell_type": "code",
   "execution_count": 19,
   "metadata": {},
   "outputs": [
    {
     "data": {
      "text/html": [
       "<div>\n",
       "<style scoped>\n",
       "    .dataframe tbody tr th:only-of-type {\n",
       "        vertical-align: middle;\n",
       "    }\n",
       "\n",
       "    .dataframe tbody tr th {\n",
       "        vertical-align: top;\n",
       "    }\n",
       "\n",
       "    .dataframe thead th {\n",
       "        text-align: right;\n",
       "    }\n",
       "</style>\n",
       "<table border=\"1\" class=\"dataframe\">\n",
       "  <thead>\n",
       "    <tr style=\"text-align: right;\">\n",
       "      <th></th>\n",
       "      <th>long_ret</th>\n",
       "      <th>ls_ret</th>\n",
       "      <th>Mkt-RF</th>\n",
       "      <th>SMB</th>\n",
       "      <th>HML</th>\n",
       "      <th>RMW</th>\n",
       "      <th>CMA</th>\n",
       "      <th>RF</th>\n",
       "      <th>excess_long</th>\n",
       "      <th>excess_ls</th>\n",
       "    </tr>\n",
       "  </thead>\n",
       "  <tbody>\n",
       "    <tr>\n",
       "      <th>1999-06-30</th>\n",
       "      <td>0.072356</td>\n",
       "      <td>-0.005423</td>\n",
       "      <td>0.0477</td>\n",
       "      <td>0.0225</td>\n",
       "      <td>-0.0360</td>\n",
       "      <td>0.0132</td>\n",
       "      <td>-0.0337</td>\n",
       "      <td>0.0040</td>\n",
       "      <td>0.068356</td>\n",
       "      <td>-0.009423</td>\n",
       "    </tr>\n",
       "    <tr>\n",
       "      <th>1999-07-31</th>\n",
       "      <td>-0.024957</td>\n",
       "      <td>0.005176</td>\n",
       "      <td>-0.0349</td>\n",
       "      <td>0.0253</td>\n",
       "      <td>-0.0076</td>\n",
       "      <td>0.0048</td>\n",
       "      <td>0.0311</td>\n",
       "      <td>0.0038</td>\n",
       "      <td>-0.028757</td>\n",
       "      <td>0.001376</td>\n",
       "    </tr>\n",
       "    <tr>\n",
       "      <th>1999-08-31</th>\n",
       "      <td>-0.015925</td>\n",
       "      <td>-0.014354</td>\n",
       "      <td>-0.0138</td>\n",
       "      <td>-0.0193</td>\n",
       "      <td>-0.0131</td>\n",
       "      <td>-0.0029</td>\n",
       "      <td>0.0031</td>\n",
       "      <td>0.0039</td>\n",
       "      <td>-0.019825</td>\n",
       "      <td>-0.018254</td>\n",
       "    </tr>\n",
       "    <tr>\n",
       "      <th>1999-09-30</th>\n",
       "      <td>-0.014978</td>\n",
       "      <td>0.036080</td>\n",
       "      <td>-0.0279</td>\n",
       "      <td>0.0256</td>\n",
       "      <td>-0.0340</td>\n",
       "      <td>-0.0074</td>\n",
       "      <td>-0.0106</td>\n",
       "      <td>0.0039</td>\n",
       "      <td>-0.018878</td>\n",
       "      <td>0.032180</td>\n",
       "    </tr>\n",
       "    <tr>\n",
       "      <th>1999-10-31</th>\n",
       "      <td>0.048022</td>\n",
       "      <td>0.033694</td>\n",
       "      <td>0.0612</td>\n",
       "      <td>-0.0709</td>\n",
       "      <td>-0.0288</td>\n",
       "      <td>-0.0171</td>\n",
       "      <td>-0.0125</td>\n",
       "      <td>0.0039</td>\n",
       "      <td>0.044122</td>\n",
       "      <td>0.029794</td>\n",
       "    </tr>\n",
       "  </tbody>\n",
       "</table>\n",
       "</div>"
      ],
      "text/plain": [
       "            long_ret    ls_ret  Mkt-RF     SMB     HML     RMW     CMA  \\\n",
       "1999-06-30  0.072356 -0.005423  0.0477  0.0225 -0.0360  0.0132 -0.0337   \n",
       "1999-07-31 -0.024957  0.005176 -0.0349  0.0253 -0.0076  0.0048  0.0311   \n",
       "1999-08-31 -0.015925 -0.014354 -0.0138 -0.0193 -0.0131 -0.0029  0.0031   \n",
       "1999-09-30 -0.014978  0.036080 -0.0279  0.0256 -0.0340 -0.0074 -0.0106   \n",
       "1999-10-31  0.048022  0.033694  0.0612 -0.0709 -0.0288 -0.0171 -0.0125   \n",
       "\n",
       "                RF  excess_long  excess_ls  \n",
       "1999-06-30  0.0040     0.068356  -0.009423  \n",
       "1999-07-31  0.0038    -0.028757   0.001376  \n",
       "1999-08-31  0.0039    -0.019825  -0.018254  \n",
       "1999-09-30  0.0039    -0.018878   0.032180  \n",
       "1999-10-31  0.0039     0.044122   0.029794  "
      ]
     },
     "execution_count": 19,
     "metadata": {},
     "output_type": "execute_result"
    }
   ],
   "source": [
    "AllData.head()"
   ]
  },
  {
   "cell_type": "code",
   "execution_count": 20,
   "metadata": {},
   "outputs": [
    {
     "name": "stdout",
     "output_type": "stream",
     "text": [
      "                            OLS Regression Results                            \n",
      "==============================================================================\n",
      "Dep. Variable:            excess_long   R-squared:                       0.820\n",
      "Model:                            OLS   Adj. R-squared:                  0.816\n",
      "Method:                 Least Squares   F-statistic:                     205.2\n",
      "Date:                Sat, 12 Oct 2019   Prob (F-statistic):           1.04e-81\n",
      "Time:                        15:43:05   Log-Likelihood:                 601.20\n",
      "No. Observations:                 231   AIC:                            -1190.\n",
      "Df Residuals:                     225   BIC:                            -1170.\n",
      "Df Model:                           5                                         \n",
      "Covariance Type:            nonrobust                                         \n",
      "==============================================================================\n",
      "                 coef    std err          t      P>|t|      [0.025      0.975]\n",
      "------------------------------------------------------------------------------\n",
      "const          0.0048      0.001      3.717      0.000       0.002       0.007\n",
      "Mkt-RF         0.9143      0.034     26.585      0.000       0.847       0.982\n",
      "SMB            0.2952      0.046      6.469      0.000       0.205       0.385\n",
      "HML           -0.0438      0.054     -0.814      0.416      -0.150       0.062\n",
      "RMW            0.2195      0.060      3.657      0.000       0.101       0.338\n",
      "CMA            0.1931      0.077      2.501      0.013       0.041       0.345\n",
      "==============================================================================\n",
      "Omnibus:                       56.557   Durbin-Watson:                   2.022\n",
      "Prob(Omnibus):                  0.000   Jarque-Bera (JB):              184.977\n",
      "Skew:                          -0.994   Prob(JB):                     6.80e-41\n",
      "Kurtosis:                       6.907   Cond. No.                         74.1\n",
      "==============================================================================\n",
      "\n",
      "Warnings:\n",
      "[1] Standard Errors assume that the covariance matrix of the errors is correctly specified.\n"
     ]
    },
    {
     "name": "stderr",
     "output_type": "stream",
     "text": [
      "C:\\ProgramData\\Anaconda3\\lib\\site-packages\\numpy\\core\\fromnumeric.py:2389: FutureWarning: Method .ptp is deprecated and will be removed in a future version. Use numpy.ptp instead.\n",
      "  return ptp(axis=axis, out=out, **kwargs)\n"
     ]
    }
   ],
   "source": [
    "x= AllData[['Mkt-RF','SMB','HML','RMW','CMA']]\n",
    "x=sm.add_constant(x)\n",
    "y= AllData['excess_long']\n",
    "ff5_long=sm.OLS(y,x).fit().summary() #use .params or .tvalues if specific needed\n",
    "print(ff5_long)"
   ]
  },
  {
   "cell_type": "code",
   "execution_count": 21,
   "metadata": {},
   "outputs": [
    {
     "name": "stdout",
     "output_type": "stream",
     "text": [
      "                            OLS Regression Results                            \n",
      "==============================================================================\n",
      "Dep. Variable:              excess_ls   R-squared:                       0.179\n",
      "Model:                            OLS   Adj. R-squared:                  0.161\n",
      "Method:                 Least Squares   F-statistic:                     9.799\n",
      "Date:                Sat, 12 Oct 2019   Prob (F-statistic):           1.74e-08\n",
      "Time:                        15:43:05   Log-Likelihood:                 417.11\n",
      "No. Observations:                 231   AIC:                            -822.2\n",
      "Df Residuals:                     225   BIC:                            -801.6\n",
      "Df Model:                           5                                         \n",
      "Covariance Type:            nonrobust                                         \n",
      "==============================================================================\n",
      "                 coef    std err          t      P>|t|      [0.025      0.975]\n",
      "------------------------------------------------------------------------------\n",
      "const         -0.0025      0.003     -0.866      0.388      -0.008       0.003\n",
      "Mkt-RF        -0.3101      0.076     -4.064      0.000      -0.461      -0.160\n",
      "SMB            0.2312      0.101      2.283      0.023       0.032       0.431\n",
      "HML           -0.4407      0.119     -3.690      0.000      -0.676      -0.205\n",
      "RMW            0.0938      0.133      0.705      0.482      -0.169       0.356\n",
      "CMA            0.1643      0.171      0.959      0.338      -0.173       0.502\n",
      "==============================================================================\n",
      "Omnibus:                      139.519   Durbin-Watson:                   2.027\n",
      "Prob(Omnibus):                  0.000   Jarque-Bera (JB):             1368.939\n",
      "Skew:                          -2.195   Prob(JB):                    5.48e-298\n",
      "Kurtosis:                      14.089   Cond. No.                         74.1\n",
      "==============================================================================\n",
      "\n",
      "Warnings:\n",
      "[1] Standard Errors assume that the covariance matrix of the errors is correctly specified.\n"
     ]
    }
   ],
   "source": [
    "x= AllData[['Mkt-RF','SMB','HML','RMW','CMA']]\n",
    "x=sm.add_constant(x)\n",
    "y= AllData['excess_ls']\n",
    "ff5_ls=sm.OLS(y,x).fit().summary()\n",
    "print(ff5_ls)"
   ]
  },
  {
   "cell_type": "code",
   "execution_count": 22,
   "metadata": {},
   "outputs": [],
   "source": [
    "time1_long=port_ret.loc['1999-08-31':'1999-11-30']\n",
    "time2_long=port_ret.loc['2009-03-31':'2009-06-30']\n",
    "time3_long=port_ret.loc['2018-01-31':'2018-03-31']"
   ]
  },
  {
   "cell_type": "code",
   "execution_count": 23,
   "metadata": {},
   "outputs": [
    {
     "data": {
      "text/html": [
       "<div>\n",
       "<style scoped>\n",
       "    .dataframe tbody tr th:only-of-type {\n",
       "        vertical-align: middle;\n",
       "    }\n",
       "\n",
       "    .dataframe tbody tr th {\n",
       "        vertical-align: top;\n",
       "    }\n",
       "\n",
       "    .dataframe thead th {\n",
       "        text-align: right;\n",
       "    }\n",
       "</style>\n",
       "<table border=\"1\" class=\"dataframe\">\n",
       "  <thead>\n",
       "    <tr style=\"text-align: right;\">\n",
       "      <th></th>\n",
       "      <th>long_ret</th>\n",
       "    </tr>\n",
       "    <tr>\n",
       "      <th>date</th>\n",
       "      <th></th>\n",
       "    </tr>\n",
       "  </thead>\n",
       "  <tbody>\n",
       "    <tr>\n",
       "      <th>1999-08-31</th>\n",
       "      <td>-0.015925</td>\n",
       "    </tr>\n",
       "    <tr>\n",
       "      <th>1999-09-30</th>\n",
       "      <td>-0.014978</td>\n",
       "    </tr>\n",
       "    <tr>\n",
       "      <th>1999-10-31</th>\n",
       "      <td>0.048022</td>\n",
       "    </tr>\n",
       "    <tr>\n",
       "      <th>1999-11-30</th>\n",
       "      <td>0.046506</td>\n",
       "    </tr>\n",
       "  </tbody>\n",
       "</table>\n",
       "</div>"
      ],
      "text/plain": [
       "            long_ret\n",
       "date                \n",
       "1999-08-31 -0.015925\n",
       "1999-09-30 -0.014978\n",
       "1999-10-31  0.048022\n",
       "1999-11-30  0.046506"
      ]
     },
     "execution_count": 23,
     "metadata": {},
     "output_type": "execute_result"
    }
   ],
   "source": [
    "time1_long"
   ]
  },
  {
   "cell_type": "code",
   "execution_count": 24,
   "metadata": {},
   "outputs": [
    {
     "data": {
      "text/plain": [
       "<matplotlib.axes._subplots.AxesSubplot at 0x1cec2dbe518>"
      ]
     },
     "execution_count": 24,
     "metadata": {},
     "output_type": "execute_result"
    },
    {
     "data": {
      "image/png": "[encoded data removed]",
      "text/plain": [
       "<Figure size 288x288 with 1 Axes>"
      ]
     },
     "metadata": {
      "needs_background": "light"
     },
     "output_type": "display_data"
    }
   ],
   "source": [
    "time1_long.plot(kind='bar', figsize=(4,4), title = 'Long Only_Aug-Nov 1999')"
   ]
  },
  {
   "cell_type": "code",
   "execution_count": 25,
   "metadata": {},
   "outputs": [
    {
     "data": {
      "text/plain": [
       "0.06312901026205342"
      ]
     },
     "execution_count": 25,
     "metadata": {},
     "output_type": "execute_result"
    }
   ],
   "source": [
    "time1_CUM=(1+time1_long['long_ret']).prod()-1\n",
    "time1_CUM"
   ]
  },
  {
   "cell_type": "code",
   "execution_count": 26,
   "metadata": {},
   "outputs": [
    {
     "data": {
      "text/html": [
       "<div>\n",
       "<style scoped>\n",
       "    .dataframe tbody tr th:only-of-type {\n",
       "        vertical-align: middle;\n",
       "    }\n",
       "\n",
       "    .dataframe tbody tr th {\n",
       "        vertical-align: top;\n",
       "    }\n",
       "\n",
       "    .dataframe thead th {\n",
       "        text-align: right;\n",
       "    }\n",
       "</style>\n",
       "<table border=\"1\" class=\"dataframe\">\n",
       "  <thead>\n",
       "    <tr style=\"text-align: right;\">\n",
       "      <th></th>\n",
       "      <th>long_ret</th>\n",
       "    </tr>\n",
       "    <tr>\n",
       "      <th>date</th>\n",
       "      <th></th>\n",
       "    </tr>\n",
       "  </thead>\n",
       "  <tbody>\n",
       "    <tr>\n",
       "      <th>2009-03-31</th>\n",
       "      <td>0.057222</td>\n",
       "    </tr>\n",
       "    <tr>\n",
       "      <th>2009-04-30</th>\n",
       "      <td>0.022940</td>\n",
       "    </tr>\n",
       "    <tr>\n",
       "      <th>2009-05-31</th>\n",
       "      <td>0.011096</td>\n",
       "    </tr>\n",
       "    <tr>\n",
       "      <th>2009-06-30</th>\n",
       "      <td>-0.003243</td>\n",
       "    </tr>\n",
       "  </tbody>\n",
       "</table>\n",
       "</div>"
      ],
      "text/plain": [
       "            long_ret\n",
       "date                \n",
       "2009-03-31  0.057222\n",
       "2009-04-30  0.022940\n",
       "2009-05-31  0.011096\n",
       "2009-06-30 -0.003243"
      ]
     },
     "execution_count": 26,
     "metadata": {},
     "output_type": "execute_result"
    }
   ],
   "source": [
    "time2_long"
   ]
  },
  {
   "cell_type": "code",
   "execution_count": 27,
   "metadata": {},
   "outputs": [
    {
     "data": {
      "text/plain": [
       "<matplotlib.axes._subplots.AxesSubplot at 0x1cec2ea4128>"
      ]
     },
     "execution_count": 27,
     "metadata": {},
     "output_type": "execute_result"
    },
    {
     "data": {
      "image/png": "[encoded data removed]",
      "text/plain": [
       "<Figure size 288x288 with 1 Axes>"
      ]
     },
     "metadata": {
      "needs_background": "light"
     },
     "output_type": "display_data"
    }
   ],
   "source": [
    "time2_long.plot(kind='bar', figsize=(4,4), title = 'Long Only_Mar-Jun 2009')"
   ]
  },
  {
   "cell_type": "code",
   "execution_count": 28,
   "metadata": {},
   "outputs": [
    {
     "data": {
      "text/plain": [
       "0.08992849727575192"
      ]
     },
     "execution_count": 28,
     "metadata": {},
     "output_type": "execute_result"
    }
   ],
   "source": [
    "time2_CUM=(1+time2_long['long_ret']).prod()-1\n",
    "time2_CUM"
   ]
  },
  {
   "cell_type": "code",
   "execution_count": 29,
   "metadata": {},
   "outputs": [
    {
     "data": {
      "text/html": [
       "<div>\n",
       "<style scoped>\n",
       "    .dataframe tbody tr th:only-of-type {\n",
       "        vertical-align: middle;\n",
       "    }\n",
       "\n",
       "    .dataframe tbody tr th {\n",
       "        vertical-align: top;\n",
       "    }\n",
       "\n",
       "    .dataframe thead th {\n",
       "        text-align: right;\n",
       "    }\n",
       "</style>\n",
       "<table border=\"1\" class=\"dataframe\">\n",
       "  <thead>\n",
       "    <tr style=\"text-align: right;\">\n",
       "      <th></th>\n",
       "      <th>long_ret</th>\n",
       "    </tr>\n",
       "    <tr>\n",
       "      <th>date</th>\n",
       "      <th></th>\n",
       "    </tr>\n",
       "  </thead>\n",
       "  <tbody>\n",
       "    <tr>\n",
       "      <th>2018-01-31</th>\n",
       "      <td>0.069452</td>\n",
       "    </tr>\n",
       "    <tr>\n",
       "      <th>2018-02-28</th>\n",
       "      <td>-0.029207</td>\n",
       "    </tr>\n",
       "    <tr>\n",
       "      <th>2018-03-31</th>\n",
       "      <td>-0.010511</td>\n",
       "    </tr>\n",
       "  </tbody>\n",
       "</table>\n",
       "</div>"
      ],
      "text/plain": [
       "            long_ret\n",
       "date                \n",
       "2018-01-31  0.069452\n",
       "2018-02-28 -0.029207\n",
       "2018-03-31 -0.010511"
      ]
     },
     "execution_count": 29,
     "metadata": {},
     "output_type": "execute_result"
    }
   ],
   "source": [
    "time3_long"
   ]
  },
  {
   "cell_type": "code",
   "execution_count": 30,
   "metadata": {},
   "outputs": [
    {
     "data": {
      "text/plain": [
       "<matplotlib.axes._subplots.AxesSubplot at 0x1cec3ad35c0>"
      ]
     },
     "execution_count": 30,
     "metadata": {},
     "output_type": "execute_result"
    },
    {
     "data": {
      "image/png": "[encoded data removed]",
      "text/plain": [
       "<Figure size 288x288 with 1 Axes>"
      ]
     },
     "metadata": {
      "needs_background": "light"
     },
     "output_type": "display_data"
    }
   ],
   "source": [
    "time3_long.plot(kind='bar', figsize=(4,4), title = 'Long Only_Jan-Mar 2018')"
   ]
  },
  {
   "cell_type": "code",
   "execution_count": 31,
   "metadata": {},
   "outputs": [
    {
     "data": {
      "text/plain": [
       "0.027303497695108314"
      ]
     },
     "execution_count": 31,
     "metadata": {},
     "output_type": "execute_result"
    }
   ],
   "source": [
    "time3_CUM=(1+time3_long['long_ret']).prod()-1\n",
    "time3_CUM"
   ]
  },
  {
   "cell_type": "code",
   "execution_count": 32,
   "metadata": {},
   "outputs": [],
   "source": [
    "time1_ls=port_ret_ls.loc['1999-08-31':'1999-11-30']\n",
    "time2_ls=port_ret_ls.loc['2009-03-31':'2009-06-30']\n",
    "time3_ls=port_ret_ls.loc['2018-01-31':'2018-03-31']"
   ]
  },
  {
   "cell_type": "code",
   "execution_count": 33,
   "metadata": {},
   "outputs": [
    {
     "data": {
      "text/html": [
       "<div>\n",
       "<style scoped>\n",
       "    .dataframe tbody tr th:only-of-type {\n",
       "        vertical-align: middle;\n",
       "    }\n",
       "\n",
       "    .dataframe tbody tr th {\n",
       "        vertical-align: top;\n",
       "    }\n",
       "\n",
       "    .dataframe thead th {\n",
       "        text-align: right;\n",
       "    }\n",
       "</style>\n",
       "<table border=\"1\" class=\"dataframe\">\n",
       "  <thead>\n",
       "    <tr style=\"text-align: right;\">\n",
       "      <th></th>\n",
       "      <th>ls_ret</th>\n",
       "    </tr>\n",
       "    <tr>\n",
       "      <th>date</th>\n",
       "      <th></th>\n",
       "    </tr>\n",
       "  </thead>\n",
       "  <tbody>\n",
       "    <tr>\n",
       "      <th>1999-08-31</th>\n",
       "      <td>-0.014354</td>\n",
       "    </tr>\n",
       "    <tr>\n",
       "      <th>1999-09-30</th>\n",
       "      <td>0.036080</td>\n",
       "    </tr>\n",
       "    <tr>\n",
       "      <th>1999-10-31</th>\n",
       "      <td>0.033694</td>\n",
       "    </tr>\n",
       "    <tr>\n",
       "      <th>1999-11-30</th>\n",
       "      <td>0.043582</td>\n",
       "    </tr>\n",
       "  </tbody>\n",
       "</table>\n",
       "</div>"
      ],
      "text/plain": [
       "              ls_ret\n",
       "date                \n",
       "1999-08-31 -0.014354\n",
       "1999-09-30  0.036080\n",
       "1999-10-31  0.033694\n",
       "1999-11-30  0.043582"
      ]
     },
     "execution_count": 33,
     "metadata": {},
     "output_type": "execute_result"
    }
   ],
   "source": [
    "time1_ls"
   ]
  },
  {
   "cell_type": "code",
   "execution_count": 34,
   "metadata": {},
   "outputs": [
    {
     "data": {
      "text/plain": [
       "<matplotlib.axes._subplots.AxesSubplot at 0x1cec3b417b8>"
      ]
     },
     "execution_count": 34,
     "metadata": {},
     "output_type": "execute_result"
    },
    {
     "data": {
      "image/png": "[encoded data removed]",
      "text/plain": [
       "<Figure size 288x288 with 1 Axes>"
      ]
     },
     "metadata": {
      "needs_background": "light"
     },
     "output_type": "display_data"
    }
   ],
   "source": [
    "time1_ls.plot(kind='bar', figsize=(4,4), title = 'Long Short_Aug-Nov 1999')"
   ]
  },
  {
   "cell_type": "code",
   "execution_count": 35,
   "metadata": {},
   "outputs": [
    {
     "data": {
      "text/plain": [
       "0.10162321811579833"
      ]
     },
     "execution_count": 35,
     "metadata": {},
     "output_type": "execute_result"
    }
   ],
   "source": [
    "time1_CUM_ls=(1+time1_ls['ls_ret']).prod()-1\n",
    "time1_CUM_ls"
   ]
  },
  {
   "cell_type": "code",
   "execution_count": 36,
   "metadata": {},
   "outputs": [
    {
     "data": {
      "text/html": [
       "<div>\n",
       "<style scoped>\n",
       "    .dataframe tbody tr th:only-of-type {\n",
       "        vertical-align: middle;\n",
       "    }\n",
       "\n",
       "    .dataframe tbody tr th {\n",
       "        vertical-align: top;\n",
       "    }\n",
       "\n",
       "    .dataframe thead th {\n",
       "        text-align: right;\n",
       "    }\n",
       "</style>\n",
       "<table border=\"1\" class=\"dataframe\">\n",
       "  <thead>\n",
       "    <tr style=\"text-align: right;\">\n",
       "      <th></th>\n",
       "      <th>ls_ret</th>\n",
       "    </tr>\n",
       "    <tr>\n",
       "      <th>date</th>\n",
       "      <th></th>\n",
       "    </tr>\n",
       "  </thead>\n",
       "  <tbody>\n",
       "    <tr>\n",
       "      <th>2009-03-31</th>\n",
       "      <td>-0.074708</td>\n",
       "    </tr>\n",
       "    <tr>\n",
       "      <th>2009-04-30</th>\n",
       "      <td>-0.309855</td>\n",
       "    </tr>\n",
       "    <tr>\n",
       "      <th>2009-05-31</th>\n",
       "      <td>-0.076641</td>\n",
       "    </tr>\n",
       "    <tr>\n",
       "      <th>2009-06-30</th>\n",
       "      <td>0.005875</td>\n",
       "    </tr>\n",
       "  </tbody>\n",
       "</table>\n",
       "</div>"
      ],
      "text/plain": [
       "              ls_ret\n",
       "date                \n",
       "2009-03-31 -0.074708\n",
       "2009-04-30 -0.309855\n",
       "2009-05-31 -0.076641\n",
       "2009-06-30  0.005875"
      ]
     },
     "execution_count": 36,
     "metadata": {},
     "output_type": "execute_result"
    }
   ],
   "source": [
    "time2_ls"
   ]
  },
  {
   "cell_type": "code",
   "execution_count": 37,
   "metadata": {},
   "outputs": [
    {
     "data": {
      "text/plain": [
       "<matplotlib.axes._subplots.AxesSubplot at 0x1cec3ba1358>"
      ]
     },
     "execution_count": 37,
     "metadata": {},
     "output_type": "execute_result"
    },
    {
     "data": {
      "image/png": "[encoded data removed]",
      "text/plain": [
       "<Figure size 288x288 with 1 Axes>"
      ]
     },
     "metadata": {
      "needs_background": "light"
     },
     "output_type": "display_data"
    }
   ],
   "source": [
    "time2_ls.plot(kind='bar', figsize=(4,4), title = 'Long Short_Mar-Jun 2009')"
   ]
  },
  {
   "cell_type": "code",
   "execution_count": 38,
   "metadata": {},
   "outputs": [
    {
     "data": {
      "text/plain": [
       "-0.40689234917069717"
      ]
     },
     "execution_count": 38,
     "metadata": {},
     "output_type": "execute_result"
    }
   ],
   "source": [
    "time2_CUM_ls=(1+time2_ls['ls_ret']).prod()-1\n",
    "time2_CUM_ls"
   ]
  },
  {
   "cell_type": "code",
   "execution_count": 39,
   "metadata": {},
   "outputs": [
    {
     "data": {
      "text/html": [
       "<div>\n",
       "<style scoped>\n",
       "    .dataframe tbody tr th:only-of-type {\n",
       "        vertical-align: middle;\n",
       "    }\n",
       "\n",
       "    .dataframe tbody tr th {\n",
       "        vertical-align: top;\n",
       "    }\n",
       "\n",
       "    .dataframe thead th {\n",
       "        text-align: right;\n",
       "    }\n",
       "</style>\n",
       "<table border=\"1\" class=\"dataframe\">\n",
       "  <thead>\n",
       "    <tr style=\"text-align: right;\">\n",
       "      <th></th>\n",
       "      <th>ls_ret</th>\n",
       "    </tr>\n",
       "    <tr>\n",
       "      <th>date</th>\n",
       "      <th></th>\n",
       "    </tr>\n",
       "  </thead>\n",
       "  <tbody>\n",
       "    <tr>\n",
       "      <th>2018-01-31</th>\n",
       "      <td>0.037789</td>\n",
       "    </tr>\n",
       "    <tr>\n",
       "      <th>2018-02-28</th>\n",
       "      <td>0.031805</td>\n",
       "    </tr>\n",
       "    <tr>\n",
       "      <th>2018-03-31</th>\n",
       "      <td>-0.007698</td>\n",
       "    </tr>\n",
       "  </tbody>\n",
       "</table>\n",
       "</div>"
      ],
      "text/plain": [
       "              ls_ret\n",
       "date                \n",
       "2018-01-31  0.037789\n",
       "2018-02-28  0.031805\n",
       "2018-03-31 -0.007698"
      ]
     },
     "execution_count": 39,
     "metadata": {},
     "output_type": "execute_result"
    }
   ],
   "source": [
    "time3_ls"
   ]
  },
  {
   "cell_type": "code",
   "execution_count": 40,
   "metadata": {},
   "outputs": [
    {
     "data": {
      "text/plain": [
       "<matplotlib.axes._subplots.AxesSubplot at 0x1cec3bff940>"
      ]
     },
     "execution_count": 40,
     "metadata": {},
     "output_type": "execute_result"
    },
    {
     "data": {
      "image/png": "[encoded data removed]",
      "text/plain": [
       "<Figure size 288x288 with 1 Axes>"
      ]
     },
     "metadata": {
      "needs_background": "light"
     },
     "output_type": "display_data"
    }
   ],
   "source": [
    "time3_ls.plot(kind='bar', figsize=(4,4), title = 'Long Short_Jan-Mar 2018')"
   ]
  },
  {
   "cell_type": "code",
   "execution_count": 41,
   "metadata": {},
   "outputs": [
    {
     "data": {
      "text/plain": [
       "0.06255315749308887"
      ]
     },
     "execution_count": 41,
     "metadata": {},
     "output_type": "execute_result"
    }
   ],
   "source": [
    "time3_CUM_ls=(1+time3_ls['ls_ret']).prod()-1\n",
    "time3_CUM_ls"
   ]
  },
  {
   "cell_type": "code",
   "execution_count": 42,
   "metadata": {},
   "outputs": [],
   "source": [
    "two_chart_input=[['Aug-Nov 1999',time1_CUM,time1_CUM_ls],['Mar-Jun 2009',time2_CUM,time2_CUM_ls],['Jan-Mar 2018',time3_CUM,time3_CUM_ls]]\n",
    "two_chart=pd.DataFrame(two_chart_input,columns=['Time_Period','Long_Only','Long_Short'])"
   ]
  },
  {
   "cell_type": "code",
   "execution_count": 43,
   "metadata": {},
   "outputs": [
    {
     "data": {
      "text/html": [
       "<div>\n",
       "<style scoped>\n",
       "    .dataframe tbody tr th:only-of-type {\n",
       "        vertical-align: middle;\n",
       "    }\n",
       "\n",
       "    .dataframe tbody tr th {\n",
       "        vertical-align: top;\n",
       "    }\n",
       "\n",
       "    .dataframe thead th {\n",
       "        text-align: right;\n",
       "    }\n",
       "</style>\n",
       "<table border=\"1\" class=\"dataframe\">\n",
       "  <thead>\n",
       "    <tr style=\"text-align: right;\">\n",
       "      <th></th>\n",
       "      <th>Long_Only</th>\n",
       "      <th>Long_Short</th>\n",
       "    </tr>\n",
       "    <tr>\n",
       "      <th>Time_Period</th>\n",
       "      <th></th>\n",
       "      <th></th>\n",
       "    </tr>\n",
       "  </thead>\n",
       "  <tbody>\n",
       "    <tr>\n",
       "      <th>Aug-Nov 1999</th>\n",
       "      <td>0.063129</td>\n",
       "      <td>0.101623</td>\n",
       "    </tr>\n",
       "    <tr>\n",
       "      <th>Mar-Jun 2009</th>\n",
       "      <td>0.089928</td>\n",
       "      <td>-0.406892</td>\n",
       "    </tr>\n",
       "    <tr>\n",
       "      <th>Jan-Mar 2018</th>\n",
       "      <td>0.027303</td>\n",
       "      <td>0.062553</td>\n",
       "    </tr>\n",
       "  </tbody>\n",
       "</table>\n",
       "</div>"
      ],
      "text/plain": [
       "              Long_Only  Long_Short\n",
       "Time_Period                        \n",
       "Aug-Nov 1999   0.063129    0.101623\n",
       "Mar-Jun 2009   0.089928   -0.406892\n",
       "Jan-Mar 2018   0.027303    0.062553"
      ]
     },
     "execution_count": 43,
     "metadata": {},
     "output_type": "execute_result"
    }
   ],
   "source": [
    "two_chart=two_chart.set_index('Time_Period')\n",
    "two_chart"
   ]
  },
  {
   "cell_type": "code",
   "execution_count": 44,
   "metadata": {},
   "outputs": [
    {
     "data": {
      "text/plain": [
       "<matplotlib.axes._subplots.AxesSubplot at 0x1cec3c67160>"
      ]
     },
     "execution_count": 44,
     "metadata": {},
     "output_type": "execute_result"
    },
    {
     "data": {
      "image/png": "[encoded data removed]",
      "text/plain": [
       "<Figure size 432x288 with 1 Axes>"
      ]
     },
     "metadata": {
      "needs_background": "light"
     },
     "output_type": "display_data"
    }
   ],
   "source": [
    "two_chart.plot(kind='bar', title = 'Long_Only vs Long_Short' )"
   ]
  },
  {
   "cell_type": "markdown",
   "metadata": {},
   "source": [
    "# Part 2 - Credit Scoring"
   ]
  },
  {
   "cell_type": "code",
   "execution_count": 45,
   "metadata": {},
   "outputs": [
    {
     "data": {
      "text/html": [
       "<div>\n",
       "<style scoped>\n",
       "    .dataframe tbody tr th:only-of-type {\n",
       "        vertical-align: middle;\n",
       "    }\n",
       "\n",
       "    .dataframe tbody tr th {\n",
       "        vertical-align: top;\n",
       "    }\n",
       "\n",
       "    .dataframe thead th {\n",
       "        text-align: right;\n",
       "    }\n",
       "</style>\n",
       "<table border=\"1\" class=\"dataframe\">\n",
       "  <thead>\n",
       "    <tr style=\"text-align: right;\">\n",
       "      <th></th>\n",
       "      <th>id</th>\n",
       "      <th>time</th>\n",
       "      <th>gdp</th>\n",
       "      <th>FICO</th>\n",
       "      <th>LTV</th>\n",
       "      <th>default</th>\n",
       "    </tr>\n",
       "  </thead>\n",
       "  <tbody>\n",
       "    <tr>\n",
       "      <th>0</th>\n",
       "      <td>1</td>\n",
       "      <td>25</td>\n",
       "      <td>2.899137</td>\n",
       "      <td>715</td>\n",
       "      <td>69.4</td>\n",
       "      <td>0</td>\n",
       "    </tr>\n",
       "    <tr>\n",
       "      <th>1</th>\n",
       "      <td>1</td>\n",
       "      <td>26</td>\n",
       "      <td>2.151365</td>\n",
       "      <td>715</td>\n",
       "      <td>69.4</td>\n",
       "      <td>0</td>\n",
       "    </tr>\n",
       "    <tr>\n",
       "      <th>2</th>\n",
       "      <td>1</td>\n",
       "      <td>27</td>\n",
       "      <td>2.361722</td>\n",
       "      <td>715</td>\n",
       "      <td>69.4</td>\n",
       "      <td>0</td>\n",
       "    </tr>\n",
       "    <tr>\n",
       "      <th>3</th>\n",
       "      <td>1</td>\n",
       "      <td>28</td>\n",
       "      <td>1.229172</td>\n",
       "      <td>715</td>\n",
       "      <td>69.4</td>\n",
       "      <td>0</td>\n",
       "    </tr>\n",
       "    <tr>\n",
       "      <th>4</th>\n",
       "      <td>1</td>\n",
       "      <td>29</td>\n",
       "      <td>1.692969</td>\n",
       "      <td>715</td>\n",
       "      <td>69.4</td>\n",
       "      <td>0</td>\n",
       "    </tr>\n",
       "  </tbody>\n",
       "</table>\n",
       "</div>"
      ],
      "text/plain": [
       "   id  time       gdp  FICO   LTV  default\n",
       "0   1    25  2.899137   715  69.4        0\n",
       "1   1    26  2.151365   715  69.4        0\n",
       "2   1    27  2.361722   715  69.4        0\n",
       "3   1    28  1.229172   715  69.4        0\n",
       "4   1    29  1.692969   715  69.4        0"
      ]
     },
     "execution_count": 45,
     "metadata": {},
     "output_type": "execute_result"
    }
   ],
   "source": [
    "df=pd.read_pickle('mortgage.pkl')\n",
    "df.head()"
   ]
  },
  {
   "cell_type": "code",
   "execution_count": 46,
   "metadata": {},
   "outputs": [
    {
     "data": {
      "text/plain": [
       "(622489, 6)"
      ]
     },
     "execution_count": 46,
     "metadata": {},
     "output_type": "execute_result"
    }
   ],
   "source": [
    "df.shape"
   ]
  },
  {
   "cell_type": "code",
   "execution_count": 47,
   "metadata": {},
   "outputs": [
    {
     "data": {
      "text/plain": [
       "<matplotlib.axes._subplots.AxesSubplot at 0x1cec3c94a90>"
      ]
     },
     "execution_count": 47,
     "metadata": {},
     "output_type": "execute_result"
    },
    {
     "data": {
      "image/png": "[encoded data removed]",
      "text/plain": [
       "<Figure size 576x360 with 1 Axes>"
      ]
     },
     "metadata": {
      "needs_background": "light"
     },
     "output_type": "display_data"
    }
   ],
   "source": [
    "plt.figure(figsize=(8,5))\n",
    "sns.countplot(x='default',data=df)"
   ]
  },
  {
   "cell_type": "code",
   "execution_count": 48,
   "metadata": {},
   "outputs": [
    {
     "name": "stdout",
     "output_type": "stream",
     "text": [
      "<class 'pandas.core.frame.DataFrame'>\n",
      "RangeIndex: 622489 entries, 0 to 622488\n",
      "Data columns (total 6 columns):\n",
      "id         622489 non-null int64\n",
      "time       622489 non-null int64\n",
      "gdp        622489 non-null float64\n",
      "FICO       622489 non-null int64\n",
      "LTV        622489 non-null float64\n",
      "default    622489 non-null int64\n",
      "dtypes: float64(2), int64(4)\n",
      "memory usage: 28.5 MB\n"
     ]
    }
   ],
   "source": [
    "df.info()"
   ]
  },
  {
   "cell_type": "code",
   "execution_count": 50,
   "metadata": {},
   "outputs": [
    {
     "data": {
      "text/plain": [
       "<matplotlib.axes._subplots.AxesSubplot at 0x1cec420be48>"
      ]
     },
     "execution_count": 50,
     "metadata": {},
     "output_type": "execute_result"
    },
    {
     "data": {
      "image/png": "[encoded data removed]",
      "text/plain": [
       "<Figure size 504x360 with 2 Axes>"
      ]
     },
     "metadata": {
      "needs_background": "light"
     },
     "output_type": "display_data"
    }
   ],
   "source": [
    "plt.figure(figsize=(7,5))\n",
    "sns.heatmap(df.corr())"
   ]
  },
  {
   "cell_type": "code",
   "execution_count": 51,
   "metadata": {},
   "outputs": [
    {
     "data": {
      "text/plain": [
       "<matplotlib.axes._subplots.AxesSubplot at 0x1cec429df98>"
      ]
     },
     "execution_count": 51,
     "metadata": {},
     "output_type": "execute_result"
    },
    {
     "data": {
      "image/png": "[encoded data removed]",
      "text/plain": [
       "<Figure size 504x360 with 2 Axes>"
      ]
     },
     "metadata": {
      "needs_background": "light"
     },
     "output_type": "display_data"
    }
   ],
   "source": [
    "plt.figure(figsize=(7,5))\n",
    "sns.heatmap(df.corr(), annot=True)"
   ]
  },
  {
   "cell_type": "code",
   "execution_count": 52,
   "metadata": {},
   "outputs": [
    {
     "name": "stdout",
     "output_type": "stream",
     "text": [
      "Optimization terminated successfully.\n",
      "         Current function value: 0.110688\n",
      "         Iterations 8\n"
     ]
    },
    {
     "data": {
      "text/html": [
       "<table class=\"simpletable\">\n",
       "<caption>Logit Regression Results</caption>\n",
       "<tr>\n",
       "  <th>Dep. Variable:</th>      <td>default</td>     <th>  No. Observations:  </th>  <td>622489</td> \n",
       "</tr>\n",
       "<tr>\n",
       "  <th>Model:</th>               <td>Logit</td>      <th>  Df Residuals:      </th>  <td>622483</td> \n",
       "</tr>\n",
       "<tr>\n",
       "  <th>Method:</th>               <td>MLE</td>       <th>  Df Model:          </th>  <td>     5</td> \n",
       "</tr>\n",
       "<tr>\n",
       "  <th>Date:</th>          <td>Sat, 12 Oct 2019</td> <th>  Pseudo R-squ.:     </th>  <td>0.03346</td>\n",
       "</tr>\n",
       "<tr>\n",
       "  <th>Time:</th>              <td>15:43:10</td>     <th>  Log-Likelihood:    </th> <td> -68902.</td>\n",
       "</tr>\n",
       "<tr>\n",
       "  <th>converged:</th>           <td>True</td>       <th>  LL-Null:           </th> <td> -71287.</td>\n",
       "</tr>\n",
       "<tr>\n",
       "  <th> </th>                      <td> </td>        <th>  LLR p-value:       </th>  <td> 0.000</td> \n",
       "</tr>\n",
       "</table>\n",
       "<table class=\"simpletable\">\n",
       "<tr>\n",
       "      <td></td>         <th>coef</th>     <th>std err</th>      <th>z</th>      <th>P>|z|</th>  <th>[0.025</th>    <th>0.975]</th>  \n",
       "</tr>\n",
       "<tr>\n",
       "  <th>Intercept</th> <td>   -1.5739</td> <td>    0.109</td> <td>  -14.424</td> <td> 0.000</td> <td>   -1.788</td> <td>   -1.360</td>\n",
       "</tr>\n",
       "<tr>\n",
       "  <th>id</th>        <td>-2.342e-06</td> <td> 5.86e-07</td> <td>   -3.996</td> <td> 0.000</td> <td>-3.49e-06</td> <td>-1.19e-06</td>\n",
       "</tr>\n",
       "<tr>\n",
       "  <th>time</th>      <td>   -0.0015</td> <td>    0.001</td> <td>   -1.932</td> <td> 0.053</td> <td>   -0.003</td> <td> 2.25e-05</td>\n",
       "</tr>\n",
       "<tr>\n",
       "  <th>gdp</th>       <td>   -0.1850</td> <td>    0.003</td> <td>  -54.179</td> <td> 0.000</td> <td>   -0.192</td> <td>   -0.178</td>\n",
       "</tr>\n",
       "<tr>\n",
       "  <th>FICO</th>      <td>   -0.0047</td> <td>    0.000</td> <td>  -41.594</td> <td> 0.000</td> <td>   -0.005</td> <td>   -0.005</td>\n",
       "</tr>\n",
       "<tr>\n",
       "  <th>LTV</th>       <td>    0.0166</td> <td>    0.001</td> <td>   20.112</td> <td> 0.000</td> <td>    0.015</td> <td>    0.018</td>\n",
       "</tr>\n",
       "</table>"
      ],
      "text/plain": [
       "<class 'statsmodels.iolib.summary.Summary'>\n",
       "\"\"\"\n",
       "                           Logit Regression Results                           \n",
       "==============================================================================\n",
       "Dep. Variable:                default   No. Observations:               622489\n",
       "Model:                          Logit   Df Residuals:                   622483\n",
       "Method:                           MLE   Df Model:                            5\n",
       "Date:                Sat, 12 Oct 2019   Pseudo R-squ.:                 0.03346\n",
       "Time:                        15:43:10   Log-Likelihood:                -68902.\n",
       "converged:                       True   LL-Null:                       -71287.\n",
       "                                        LLR p-value:                     0.000\n",
       "==============================================================================\n",
       "                 coef    std err          z      P>|z|      [0.025      0.975]\n",
       "------------------------------------------------------------------------------\n",
       "Intercept     -1.5739      0.109    -14.424      0.000      -1.788      -1.360\n",
       "id         -2.342e-06   5.86e-07     -3.996      0.000   -3.49e-06   -1.19e-06\n",
       "time          -0.0015      0.001     -1.932      0.053      -0.003    2.25e-05\n",
       "gdp           -0.1850      0.003    -54.179      0.000      -0.192      -0.178\n",
       "FICO          -0.0047      0.000    -41.594      0.000      -0.005      -0.005\n",
       "LTV            0.0166      0.001     20.112      0.000       0.015       0.018\n",
       "==============================================================================\n",
       "\"\"\""
      ]
     },
     "execution_count": 52,
     "metadata": {},
     "output_type": "execute_result"
    }
   ],
   "source": [
    "model=smf.logit(formula='default ~ id + time + gdp + FICO + LTV',data=df).fit()\n",
    "model.summary()"
   ]
  },
  {
   "cell_type": "code",
   "execution_count": 54,
   "metadata": {},
   "outputs": [
    {
     "name": "stdout",
     "output_type": "stream",
     "text": [
      "Optimization terminated successfully.\n",
      "         Current function value: 0.110691\n",
      "         Iterations 8\n"
     ]
    },
    {
     "data": {
      "text/html": [
       "<table class=\"simpletable\">\n",
       "<caption>Logit Regression Results</caption>\n",
       "<tr>\n",
       "  <th>Dep. Variable:</th>      <td>default</td>     <th>  No. Observations:  </th>  <td>622489</td> \n",
       "</tr>\n",
       "<tr>\n",
       "  <th>Model:</th>               <td>Logit</td>      <th>  Df Residuals:      </th>  <td>622484</td> \n",
       "</tr>\n",
       "<tr>\n",
       "  <th>Method:</th>               <td>MLE</td>       <th>  Df Model:          </th>  <td>     4</td> \n",
       "</tr>\n",
       "<tr>\n",
       "  <th>Date:</th>          <td>Sat, 12 Oct 2019</td> <th>  Pseudo R-squ.:     </th>  <td>0.03343</td>\n",
       "</tr>\n",
       "<tr>\n",
       "  <th>Time:</th>              <td>15:43:13</td>     <th>  Log-Likelihood:    </th> <td> -68904.</td>\n",
       "</tr>\n",
       "<tr>\n",
       "  <th>converged:</th>           <td>True</td>       <th>  LL-Null:           </th> <td> -71287.</td>\n",
       "</tr>\n",
       "<tr>\n",
       "  <th> </th>                      <td> </td>        <th>  LLR p-value:       </th>  <td> 0.000</td> \n",
       "</tr>\n",
       "</table>\n",
       "<table class=\"simpletable\">\n",
       "<tr>\n",
       "      <td></td>         <th>coef</th>     <th>std err</th>      <th>z</th>      <th>P>|z|</th>  <th>[0.025</th>    <th>0.975]</th>  \n",
       "</tr>\n",
       "<tr>\n",
       "  <th>Intercept</th> <td>   -1.6152</td> <td>    0.107</td> <td>  -15.088</td> <td> 0.000</td> <td>   -1.825</td> <td>   -1.405</td>\n",
       "</tr>\n",
       "<tr>\n",
       "  <th>id</th>        <td>-2.534e-06</td> <td> 5.77e-07</td> <td>   -4.391</td> <td> 0.000</td> <td>-3.67e-06</td> <td> -1.4e-06</td>\n",
       "</tr>\n",
       "<tr>\n",
       "  <th>gdp</th>       <td>   -0.1844</td> <td>    0.003</td> <td>  -54.198</td> <td> 0.000</td> <td>   -0.191</td> <td>   -0.178</td>\n",
       "</tr>\n",
       "<tr>\n",
       "  <th>FICO</th>      <td>   -0.0048</td> <td>    0.000</td> <td>  -41.842</td> <td> 0.000</td> <td>   -0.005</td> <td>   -0.005</td>\n",
       "</tr>\n",
       "<tr>\n",
       "  <th>LTV</th>       <td>    0.0166</td> <td>    0.001</td> <td>   20.128</td> <td> 0.000</td> <td>    0.015</td> <td>    0.018</td>\n",
       "</tr>\n",
       "</table>"
      ],
      "text/plain": [
       "<class 'statsmodels.iolib.summary.Summary'>\n",
       "\"\"\"\n",
       "                           Logit Regression Results                           \n",
       "==============================================================================\n",
       "Dep. Variable:                default   No. Observations:               622489\n",
       "Model:                          Logit   Df Residuals:                   622484\n",
       "Method:                           MLE   Df Model:                            4\n",
       "Date:                Sat, 12 Oct 2019   Pseudo R-squ.:                 0.03343\n",
       "Time:                        15:43:13   Log-Likelihood:                -68904.\n",
       "converged:                       True   LL-Null:                       -71287.\n",
       "                                        LLR p-value:                     0.000\n",
       "==============================================================================\n",
       "                 coef    std err          z      P>|z|      [0.025      0.975]\n",
       "------------------------------------------------------------------------------\n",
       "Intercept     -1.6152      0.107    -15.088      0.000      -1.825      -1.405\n",
       "id         -2.534e-06   5.77e-07     -4.391      0.000   -3.67e-06    -1.4e-06\n",
       "gdp           -0.1844      0.003    -54.198      0.000      -0.191      -0.178\n",
       "FICO          -0.0048      0.000    -41.842      0.000      -0.005      -0.005\n",
       "LTV            0.0166      0.001     20.128      0.000       0.015       0.018\n",
       "==============================================================================\n",
       "\"\"\""
      ]
     },
     "execution_count": 54,
     "metadata": {},
     "output_type": "execute_result"
    }
   ],
   "source": [
    "# drop time\n",
    "model2=smf.logit(formula='default ~ id + gdp + FICO + LTV',data=df).fit()\n",
    "model2.summary()"
   ]
  },
  {
   "cell_type": "code",
   "execution_count": 56,
   "metadata": {},
   "outputs": [
    {
     "data": {
      "text/plain": [
       "array([0.01206968, 0.0138293 , 0.01331019, ..., 0.01703686, 0.01839988,\n",
       "       0.01713669])"
      ]
     },
     "execution_count": 56,
     "metadata": {},
     "output_type": "execute_result"
    }
   ],
   "source": [
    "predicted =  model2.predict()\n",
    "predicted"
   ]
  },
  {
   "cell_type": "code",
   "execution_count": 57,
   "metadata": {},
   "outputs": [],
   "source": [
    "logit_pred = model2.predict()\n",
    "i=0\n",
    "for x in model2.predict():\n",
    "    if x<0.5:\n",
    "        logit_pred[i]=0\n",
    "    else:\n",
    "        logit_pred[i]=1\n",
    "    i=i+1"
   ]
  },
  {
   "cell_type": "code",
   "execution_count": 58,
   "metadata": {},
   "outputs": [
    {
     "data": {
      "text/plain": [
       "0.9756493689045108"
      ]
     },
     "execution_count": 58,
     "metadata": {},
     "output_type": "execute_result"
    }
   ],
   "source": [
    "np.mean(logit_pred==df['default'])\n",
    "# model seems to predict 97.5% accurately"
   ]
  },
  {
   "cell_type": "code",
   "execution_count": 59,
   "metadata": {},
   "outputs": [
    {
     "data": {
      "text/plain": [
       "array([[607331.,      0.],\n",
       "       [ 15158.,      0.]])"
      ]
     },
     "execution_count": 59,
     "metadata": {},
     "output_type": "execute_result"
    }
   ],
   "source": [
    "model2.pred_table()"
   ]
  },
  {
   "cell_type": "code",
   "execution_count": 61,
   "metadata": {},
   "outputs": [
    {
     "name": "stdout",
     "output_type": "stream",
     "text": [
      "Optimization terminated successfully.\n",
      "         Current function value: 0.110706\n",
      "         Iterations 8\n"
     ]
    },
    {
     "data": {
      "text/html": [
       "<table class=\"simpletable\">\n",
       "<caption>Logit Regression Results</caption>\n",
       "<tr>\n",
       "  <th>Dep. Variable:</th>      <td>default</td>     <th>  No. Observations:  </th>  <td>622489</td> \n",
       "</tr>\n",
       "<tr>\n",
       "  <th>Model:</th>               <td>Logit</td>      <th>  Df Residuals:      </th>  <td>622485</td> \n",
       "</tr>\n",
       "<tr>\n",
       "  <th>Method:</th>               <td>MLE</td>       <th>  Df Model:          </th>  <td>     3</td> \n",
       "</tr>\n",
       "<tr>\n",
       "  <th>Date:</th>          <td>Sat, 12 Oct 2019</td> <th>  Pseudo R-squ.:     </th>  <td>0.03329</td>\n",
       "</tr>\n",
       "<tr>\n",
       "  <th>Time:</th>              <td>15:43:16</td>     <th>  Log-Likelihood:    </th> <td> -68913.</td>\n",
       "</tr>\n",
       "<tr>\n",
       "  <th>converged:</th>           <td>True</td>       <th>  LL-Null:           </th> <td> -71287.</td>\n",
       "</tr>\n",
       "<tr>\n",
       "  <th> </th>                      <td> </td>        <th>  LLR p-value:       </th>  <td> 0.000</td> \n",
       "</tr>\n",
       "</table>\n",
       "<table class=\"simpletable\">\n",
       "<tr>\n",
       "      <td></td>         <th>coef</th>     <th>std err</th>      <th>z</th>      <th>P>|z|</th>  <th>[0.025</th>    <th>0.975]</th>  \n",
       "</tr>\n",
       "<tr>\n",
       "  <th>Intercept</th> <td>   -1.6761</td> <td>    0.106</td> <td>  -15.780</td> <td> 0.000</td> <td>   -1.884</td> <td>   -1.468</td>\n",
       "</tr>\n",
       "<tr>\n",
       "  <th>gdp</th>       <td>   -0.1839</td> <td>    0.003</td> <td>  -54.062</td> <td> 0.000</td> <td>   -0.191</td> <td>   -0.177</td>\n",
       "</tr>\n",
       "<tr>\n",
       "  <th>FICO</th>      <td>   -0.0048</td> <td>    0.000</td> <td>  -41.816</td> <td> 0.000</td> <td>   -0.005</td> <td>   -0.005</td>\n",
       "</tr>\n",
       "<tr>\n",
       "  <th>LTV</th>       <td>    0.0165</td> <td>    0.001</td> <td>   20.058</td> <td> 0.000</td> <td>    0.015</td> <td>    0.018</td>\n",
       "</tr>\n",
       "</table>"
      ],
      "text/plain": [
       "<class 'statsmodels.iolib.summary.Summary'>\n",
       "\"\"\"\n",
       "                           Logit Regression Results                           \n",
       "==============================================================================\n",
       "Dep. Variable:                default   No. Observations:               622489\n",
       "Model:                          Logit   Df Residuals:                   622485\n",
       "Method:                           MLE   Df Model:                            3\n",
       "Date:                Sat, 12 Oct 2019   Pseudo R-squ.:                 0.03329\n",
       "Time:                        15:43:16   Log-Likelihood:                -68913.\n",
       "converged:                       True   LL-Null:                       -71287.\n",
       "                                        LLR p-value:                     0.000\n",
       "==============================================================================\n",
       "                 coef    std err          z      P>|z|      [0.025      0.975]\n",
       "------------------------------------------------------------------------------\n",
       "Intercept     -1.6761      0.106    -15.780      0.000      -1.884      -1.468\n",
       "gdp           -0.1839      0.003    -54.062      0.000      -0.191      -0.177\n",
       "FICO          -0.0048      0.000    -41.816      0.000      -0.005      -0.005\n",
       "LTV            0.0165      0.001     20.058      0.000       0.015       0.018\n",
       "==============================================================================\n",
       "\"\"\""
      ]
     },
     "execution_count": 61,
     "metadata": {},
     "output_type": "execute_result"
    }
   ],
   "source": [
    "model3=smf.logit(formula='default ~ gdp + FICO + LTV',data=df).fit()\n",
    "model3.summary()"
   ]
  }
 ],
 "metadata": {
  "kernelspec": {
   "display_name": "Python 3",
   "language": "python",
   "name": "python3"
  },
  "language_info": {
   "codemirror_mode": {
    "name": "ipython",
    "version": 3
   },
   "file_extension": ".py",
   "mimetype": "text/x-python",
   "name": "python",
   "nbconvert_exporter": "python",
   "pygments_lexer": "ipython3",
   "version": "3.7.3"
  }
 },
 "nbformat": 4,
 "nbformat_minor": 2
}
